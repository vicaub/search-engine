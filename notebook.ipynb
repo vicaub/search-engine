{
 "cells": [
  {
   "cell_type": "markdown",
   "metadata": {},
   "source": [
    "# Projet Search-Engine - Fondement de la Recherche d'Information-WEB"
   ]
  },
  {
   "cell_type": "markdown",
   "metadata": {},
   "source": [
    "## Requirements installation\n",
    "Run:\n",
    "```\n",
    "pip3 install -r requirements.txt\n",
    "```"
   ]
  },
  {
   "cell_type": "markdown",
   "metadata": {},
   "source": [
    "# Tâche 1 : Création d’un index inversé et moteur de recherche booléen et vectorie"
   ]
  },
  {
   "cell_type": "markdown",
   "metadata": {},
   "source": [
    "## 2.1 Traitements linguistiques"
   ]
  },
  {
   "cell_type": "markdown",
   "metadata": {},
   "source": [
    "### Tokenisation des collections"
   ]
  },
  {
   "cell_type": "markdown",
   "metadata": {},
   "source": [
    "#### CACM"
   ]
  },
  {
   "cell_type": "markdown",
   "metadata": {},
   "source": [
    "importing datasets"
   ]
  },
  {
   "cell_type": "code",
   "execution_count": null,
   "metadata": {
    "scrolled": true
   },
   "outputs": [],
   "source": [
    "import file_reading\n",
    "import tokenization"
   ]
  },
  {
   "cell_type": "markdown",
   "metadata": {},
   "source": [
    "CACM (quick import and tokenization)"
   ]
  },
  {
   "cell_type": "code",
   "execution_count": null,
   "metadata": {},
   "outputs": [],
   "source": [
    "CACM_documents = file_reading.read_cacm()  # raw dataset\n",
    "CACM_tokens_NLTK = tokenization.tokenize_CACM(CACM_documents)  # tokenization with NLTK and stoplist\n",
    "CACM_tokens = tokenization.tokenize_no_nltk_CACM(CACM_documents)  # Manual tokenization (stoplist)"
   ]
  },
  {
   "cell_type": "markdown",
   "metadata": {},
   "source": [
    "#### CS276"
   ]
  },
  {
   "cell_type": "markdown",
   "metadata": {},
   "source": [
    "Storing tokenized dataset into a pickle file that's reused"
   ]
  },
  {
   "cell_type": "code",
   "execution_count": null,
   "metadata": {},
   "outputs": [],
   "source": [
    "import pickle\n",
    "import os\n",
    "\n",
    "if os.path.exists(\"tokenized_data/CS276_docs.pickle\"):\n",
    "    print(\"getting CS276 docs pickle\")\n",
    "    CS276_docs = pickle.load(open(\"tokenized_data/CS276_docs.pickle\", 'rb'))\n",
    "else:\n",
    "    print(\"reading CS297\")\n",
    "    CS276_docs = file_reading.read_cs276()\n",
    "    print(\"storing CS297 docs in a pickle\")\n",
    "    pickle.dump(CS276_docs, open(\"tokenized_data/CS276_docs.pickle\", 'wb'))\n",
    "\n",
    "if os.path.exists(\"tokenized_data/CS276_tokens.pickle\"):\n",
    "    print(\"getting CS276 tokens pickle\")\n",
    "    CS276_tokens = pickle.load(open(\"tokenized_data/CS276_tokens.pickle\", 'rb'))\n",
    "else:\n",
    "    print(\"making CS276 tokens\")\n",
    "    CS276_tokens = tokenization.tokenize_CS276(CS276_docs)\n",
    "    print(\"storing CS276 in a pickle\")\n",
    "    pickle.dump(CS276_tokens, open(\"tokenized_data/CS276_tokens.pickle\", \"wb\"))\n",
    "print(\"done\")"
   ]
  },
  {
   "cell_type": "markdown",
   "metadata": {},
   "source": [
    "### Nombre de tokens"
   ]
  },
  {
   "cell_type": "code",
   "execution_count": null,
   "metadata": {},
   "outputs": [],
   "source": [
    "print(\"Nombre de tokens pour CACM (sans NLTK):\")\n",
    "T1 = sum([len(L) for L in CACM_tokens])\n",
    "print(T1)\n",
    "\n",
    "print(\"Nombre de tokens pour CACM (avec NLTK):\")\n",
    "T1 = sum([len(L) for L in CACM_tokens_NLTK])\n",
    "print(T1)\n",
    "\n",
    "print(\"Nombre de tokens pour CS276:\")\n",
    "T1 = sum([len(L) for L in CS276_tokens])\n",
    "print(T1)"
   ]
  },
  {
   "cell_type": "markdown",
   "metadata": {},
   "source": [
    "### Taille du vocabulaire"
   ]
  },
  {
   "cell_type": "code",
   "execution_count": null,
   "metadata": {
    "scrolled": false
   },
   "outputs": [],
   "source": [
    "print(\"Vocabulaire pour CACM: \")\n",
    "M1 = len(CACM_tokens)\n",
    "print(M1)\n",
    "# print(CACM_tokens.keys())\n",
    "\n",
    "print(\"Vocabulaire pour CACM (avec NLTK): \")\n",
    "M1 = len(CACM_tokens_NLTK)\n",
    "print(M1)\n",
    "# print(CACM_tokens.keys())\n",
    "\n",
    "print(\"Vocabulaire pour CS276_tokens: \")\n",
    "M1 = len(CS276_tokens)\n",
    "print(M1)\n",
    "# print(CS276_tokens.keys())"
   ]
  },
  {
   "cell_type": "markdown",
   "metadata": {},
   "source": [
    "### Loi Heap et estimation pour 1M vocabulaire"
   ]
  },
  {
   "cell_type": "markdown",
   "metadata": {},
   "source": [
    "CACM"
   ]
  },
  {
   "cell_type": "code",
   "execution_count": null,
   "metadata": {},
   "outputs": [],
   "source": [
    "d_half = tokenization.tokenize_no_nltk_CACM(CACM_documents[:len(CACM_documents)//2])\n",
    "tokenization.print_heap_law(CACM_tokens, d_half, \"CACM without NLTK\")"
   ]
  },
  {
   "cell_type": "code",
   "execution_count": null,
   "metadata": {},
   "outputs": [],
   "source": [
    "d_half = tokenization.tokenize_CACM(CACM_documents[:len(CACM_documents)//2])\n",
    "tokenization.print_heap_law(CACM_tokens_NLTK, d_half, \"CACM with NLTK\")"
   ]
  },
  {
   "cell_type": "markdown",
   "metadata": {},
   "source": [
    "CS276"
   ]
  },
  {
   "cell_type": "code",
   "execution_count": null,
   "metadata": {},
   "outputs": [],
   "source": [
    "CS276_tokens_heap = CS276_tokens.copy()\n",
    "ids_to_delete = list(range(len(CS276_docs)//2))\n",
    "\n",
    "for document_ids in CS276_tokens_heap.values():\n",
    "    filter(lambda d_id: d_id not in ids_to_delete, document_ids)\n",
    "\n",
    "tokenization.print_heap_law(CS276_tokens, d_half, \"CS276\")"
   ]
  },
  {
   "cell_type": "markdown",
   "metadata": {},
   "source": [
    "### Graphes frequence / rang et log(frequence) / log(rang)"
   ]
  },
  {
   "cell_type": "code",
   "execution_count": null,
   "metadata": {},
   "outputs": [],
   "source": [
    "freq_CACM = tokenization.word_frequency(CACM_tokens)\n",
    "freq_CACM_NLTK = tokenization.word_frequency(CACM_tokens_NLTK)\n",
    "freq_CS276 = tokenization.word_frequency(CS276_tokens)"
   ]
  },
  {
   "cell_type": "markdown",
   "metadata": {},
   "source": [
    "#### CACM without NLTK"
   ]
  },
  {
   "cell_type": "code",
   "execution_count": null,
   "metadata": {},
   "outputs": [],
   "source": [
    "import matplotlib.pyplot as plt\n",
    "list_word = [tokenization.Token_sorter(word, freq_CACM[word]) for word in freq_CACM.keys()]\n",
    "list_word.sort()\n",
    "X = range(1, len(list_word) + 1)\n",
    "Y = [word.f for word in list_word]\n",
    "plt.title('pour CACM sans NLTK')\n",
    "plt.ylabel('frequence')\n",
    "plt.xlabel('rang')\n",
    "plt.plot(X, Y,)\n",
    "plt.show()"
   ]
  },
  {
   "cell_type": "code",
   "execution_count": null,
   "metadata": {
    "scrolled": true
   },
   "outputs": [],
   "source": [
    "from numpy import log, array\n",
    "X2= log(array(X))\n",
    "Y2 = log(array(Y))\n",
    "plt.title('pour CACM sans NLTK')\n",
    "plt.ylabel('log(frequence)')\n",
    "plt.xlabel('log(rang)')\n",
    "plt.plot(X2, Y2)\n",
    "plt.show()"
   ]
  },
  {
   "cell_type": "markdown",
   "metadata": {},
   "source": [
    "#### CACM with NLTK"
   ]
  },
  {
   "cell_type": "code",
   "execution_count": null,
   "metadata": {},
   "outputs": [],
   "source": [
    "list_word = [tokenization.Token_sorter(word, freq_CACM_NLTK[word]) for word in freq_CACM_NLTK.keys()]\n",
    "list_word.sort()\n",
    "X = range(1, len(list_word) + 1)\n",
    "Y = [word.f for word in list_word]\n",
    "plt.title('pour CACM avec NLTK')\n",
    "plt.ylabel('frequence')\n",
    "plt.xlabel('rang')\n",
    "plt.plot(X, Y)\n",
    "plt.show()"
   ]
  },
  {
   "cell_type": "code",
   "execution_count": null,
   "metadata": {},
   "outputs": [],
   "source": [
    "from numpy import log, array\n",
    "X2= log(array(X))\n",
    "Y2 = log(array(Y))\n",
    "plt.title('pour CACM avec NLTK')\n",
    "plt.ylabel('log(frequence)')\n",
    "plt.xlabel('log(rang)')\n",
    "plt.plot(X2, Y2)\n",
    "plt.show()"
   ]
  },
  {
   "cell_type": "markdown",
   "metadata": {},
   "source": [
    "#### CS276"
   ]
  },
  {
   "cell_type": "code",
   "execution_count": null,
   "metadata": {},
   "outputs": [],
   "source": [
    "list_word = [tokenization.Token_sorter(word, freq_CS276[word]) for word in freq_CS276.keys()]\n",
    "list_word.sort()\n",
    "X = range(1, len(list_word) + 1)\n",
    "Y = [word.f for word in list_word]\n",
    "plt.plot(X, Y)\n",
    "plt.title('pour CS276')\n",
    "plt.ylabel('frequence')\n",
    "plt.xlabel('rang')\n",
    "plt.show()"
   ]
  },
  {
   "cell_type": "code",
   "execution_count": null,
   "metadata": {},
   "outputs": [],
   "source": [
    "from numpy import log, array\n",
    "X2= log(array(X))\n",
    "Y2 = log(array(Y))\n",
    "plt.title('pour CS276')\n",
    "plt.ylabel('log(frequence)')\n",
    "plt.xlabel('log(rang)')\n",
    "plt.plot(X2, Y2)\n",
    "plt.show()"
   ]
  },
  {
   "cell_type": "markdown",
   "metadata": {},
   "source": [
    "### Index inversé"
   ]
  },
  {
   "cell_type": "markdown",
   "metadata": {},
   "source": [
    "On crée des indexes inversés pour les corpus CACM et CS276 dans des fichiers `invesed_index/cacm/cacm.output`\n",
    "\n",
    "Des fichiers intermédiaires sont générés pour alleger la mémoire `invesed_index/cacm/cacm.output_x`\n",
    "\n",
    "Chaque ligne contient l'id du token en premiere position, puis la liste des id des documents qui contiennent ce token"
   ]
  },
  {
   "cell_type": "code",
   "execution_count": null,
   "metadata": {},
   "outputs": [],
   "source": [
    "import inversed_index\n",
    "from time import time"
   ]
  },
  {
   "cell_type": "markdown",
   "metadata": {},
   "source": [
    "#### CACM without NKTK (better performances)"
   ]
  },
  {
   "cell_type": "code",
   "execution_count": null,
   "metadata": {},
   "outputs": [],
   "source": [
    "cacm_dict_term = {}\n",
    "i = 0\n",
    "for token in CACM_tokens:\n",
    "    if token not in cacm_dict_term:\n",
    "        cacm_dict_term[token] = i\n",
    "        i += 1\n",
    "\n",
    "start = time()\n",
    "inversed_index.index_inverse_global(CACM_documents, 1000,\n",
    "                                    \"inversed_index/cacm/cacm.output\",\n",
    "                                    cacm_dict_term,\n",
    "                                    type=\"CACM\")\n",
    "print(\"l'indexation de CACM a pris\", time() - start, \"secondes\")"
   ]
  },
  {
   "cell_type": "markdown",
   "metadata": {},
   "source": [
    "#### CS276 (supprimez les fichiers inversed_index/cs276/cs276.output pour les recalculer)"
   ]
  },
  {
   "cell_type": "code",
   "execution_count": null,
   "metadata": {},
   "outputs": [],
   "source": [
    "cs276_dict_term = {}\n",
    "i = 0\n",
    "for token in CS276_tokens:\n",
    "    if token not in cs276_dict_term:\n",
    "        cs276_dict_term[token] = i\n",
    "        i += 1\n",
    "\n",
    "if not os.path.exists(\"inversed_index/cs276/cs276.output\"):\n",
    "    start = time()\n",
    "    inversed_index.index_inverse_global(CS276_docs, 1000,\n",
    "                                        \"inversed_index/cs276/cs276.output\",\n",
    "                                        cs276_dict_term,\n",
    "                                        type=\"CS276\")\n",
    "    print(\"l'indexation de CS276 a pris\", time() - start, \"secondes\")"
   ]
  },
  {
   "cell_type": "markdown",
   "metadata": {},
   "source": [
    "# Index inversé fréquentiel"
   ]
  },
  {
   "cell_type": "markdown",
   "metadata": {},
   "source": [
    "On crée des indexes inversés fréquentiels pour les corpus CACM et CS276 dans des fichiers frequential_index/cacm/cacm.output\n",
    "\n",
    "Des fichiers intermédiaires sont générés pour alleger la mémoire frequential_index/cacm/cacm.output_x\n",
    "\n",
    "Chaque ligne contient l'id du token en premiere position, puis la liste des couples document_id/frequence"
   ]
  },
  {
   "cell_type": "code",
   "execution_count": null,
   "metadata": {},
   "outputs": [],
   "source": [
    "import frequency_index"
   ]
  },
  {
   "cell_type": "markdown",
   "metadata": {},
   "source": [
    "#### CACM without NKTK (better performances)"
   ]
  },
  {
   "cell_type": "code",
   "execution_count": null,
   "metadata": {},
   "outputs": [],
   "source": [
    "start = time()\n",
    "frequency_index.index_inverse_global_with_frequency(CACM_documents, 1000,\n",
    "                                                      \"frequential_index/cacm/cacm.output\",\n",
    "                                                      cacm_dict_term,\n",
    "                                                      type=\"CACM\")\n",
    "print(\"l'indexation fréquentielle de CACM a pris\", time() - start, \"secondes\")"
   ]
  },
  {
   "cell_type": "markdown",
   "metadata": {},
   "source": [
    "#### CS276"
   ]
  },
  {
   "cell_type": "code",
   "execution_count": null,
   "metadata": {},
   "outputs": [],
   "source": [
    "if not os.path.exists(\"frequential_index/cs276/cs276.output\"):\n",
    "    start = time()\n",
    "    frequency_index.index_inverse_global_with_frequency(CS276_docs, 1000,\n",
    "                                                      \"frequential_index/cs276/cs276.output\",\n",
    "                                                      cs276_dict_term,\n",
    "                                                      type=\"CS276\")\n",
    "    print(\"l'indexation fréquentielle de CS276 a pris\", time() - start, \"secondes\")"
   ]
  },
  {
   "cell_type": "markdown",
   "metadata": {},
   "source": [
    "## Modele booleen"
   ]
  },
  {
   "cell_type": "markdown",
   "metadata": {},
   "source": [
    "La recherche booléenne prend une entrée booléenne du type \"token&token|(!token&token)\". L'expression booleenne est transformée en expression polonaise pour prendre en compte efficacement les parenthèses. Le programme renvoie un set des ids des documents qui contiennent l'expression et le temps de utilisé pour calculer. "
   ]
  },
  {
   "cell_type": "code",
   "execution_count": null,
   "metadata": {},
   "outputs": [],
   "source": [
    "import boolean_model"
   ]
  },
  {
   "cell_type": "markdown",
   "metadata": {},
   "source": [
    "#### CACM"
   ]
  },
  {
   "cell_type": "code",
   "execution_count": null,
   "metadata": {},
   "outputs": [],
   "source": [
    "boolean_queries = [\n",
    "    \"Algebraic&Language|(Preliminary&printer)\",\n",
    "    \"Algebraic&!Language\",\n",
    "    \"The&Secant&Method&for&Simultaneous&Nonlinear&Equations\",\n",
    "    \"Binary&Representation|(Algebraic&Language)\"\n",
    "]\n",
    "for query in boolean_queries:\n",
    "    print()\n",
    "    debut = time()\n",
    "    result = boolean_model.boolean_model(query, CACM_documents, cacm_dict_term, type=\"CACM\")\n",
    "    print(\"query:\", query)\n",
    "    print(\"request time:\", time() - debut)\n",
    "    print(\"result:\", result)"
   ]
  },
  {
   "cell_type": "markdown",
   "metadata": {},
   "source": [
    "#### CS276"
   ]
  },
  {
   "cell_type": "code",
   "execution_count": null,
   "metadata": {
    "scrolled": true
   },
   "outputs": [],
   "source": [
    "from time import time\n",
    "\n",
    "boolean_queries = [\n",
    "    \"contact&us&about&us&food&allergies&stanford&medicine\",\n",
    "    \"contact&us&about&us&!food\",\n",
    "    \"(climate&change)|(agricultural&adaptation)&!politic&!university\"\n",
    "]\n",
    "for query in boolean_queries:\n",
    "    print()\n",
    "    debut = time()\n",
    "    result = boolean_model.boolean_model(query, CS276_docs, cs276_dict_term, type=\"CS276\")\n",
    "    print(\"query:\", query)\n",
    "    print(\"request time:\", time() - debut)\n",
    "    print(\"result:\", result)"
   ]
  },
  {
   "cell_type": "markdown",
   "metadata": {},
   "source": [
    "## Modele vectoriel"
   ]
  },
  {
   "cell_type": "code",
   "execution_count": null,
   "metadata": {},
   "outputs": [],
   "source": [
    "import vectorial_model\n",
    "from importlib import reload\n",
    "vectorial_model = reload(vectorial_model)"
   ]
  },
  {
   "cell_type": "markdown",
   "metadata": {},
   "source": [
    "##### CACM"
   ]
  },
  {
   "cell_type": "code",
   "execution_count": null,
   "metadata": {},
   "outputs": [],
   "source": [
    "# ponderation tf-idf\n",
    "start = time()\n",
    "found_documents = vectorial_model.modele_vectoriel(\"paper\",\n",
    "                                                   CACM_documents,\n",
    "                                                   cacm_dict_term,\n",
    "                                                   ponderation=\"tfidf\",\n",
    "                                                   type=\"CACM\")\n",
    "print(\"request time\", time() - start)\n",
    "print(found_documents[:5])"
   ]
  },
  {
   "cell_type": "code",
   "execution_count": null,
   "metadata": {},
   "outputs": [],
   "source": [
    "# ponderation tf-idf normalisé\n",
    "start = time()\n",
    "found_documents = vectorial_model.modele_vectoriel(\"This paper describes an alternate method for summing a set of floating-point numbers.  Comparison of the error bound for this method with that of the standard summation method shows that it is considerably less sensitive to propagation of round-off error.\",\n",
    "                                                   CACM_documents,\n",
    "                                                   cacm_dict_term,\n",
    "                                                   ponderation=\"tfidf_norm\",\n",
    "                                                   type=\"CACM\")\n",
    "print(\"request time\", time() - start)\n",
    "print(found_documents[:5])"
   ]
  },
  {
   "cell_type": "code",
   "execution_count": null,
   "metadata": {},
   "outputs": [],
   "source": [
    "# ponderation frequence normalisé\n",
    "start = time()\n",
    "found_documents = vectorial_model.modele_vectoriel(\"This paper describes an alternate method for summing a set of floating-point numbers.  Comparison of the error bound for this method with that of the standard summation method shows that it is considerably less sensitive to propagation of round-off error.\",\n",
    "                                                   CACM_documents,\n",
    "                                                   cacm_dict_term,\n",
    "                                                   ponderation=\"norm_freq\",\n",
    "                                                   type=\"CACM\")\n",
    "print(\"request time\", time() - start)\n",
    "print(found_documents[:5])"
   ]
  },
  {
   "cell_type": "markdown",
   "metadata": {},
   "source": [
    "#### CS276"
   ]
  },
  {
   "cell_type": "code",
   "execution_count": null,
   "metadata": {},
   "outputs": [],
   "source": [
    "start = time()\n",
    "found_documents = vectorial_model.modele_vectoriel(\"hello hello\",\n",
    "                                                   CS276_docs,\n",
    "                                                   cs276_dict_term,\n",
    "                                                   ponderation=\"tfidf\",\n",
    "                                                   type=\"CS276\")\n",
    "print(\"request time\", time() - start)\n",
    "print(found_documents[:5])"
   ]
  },
  {
   "cell_type": "markdown",
   "metadata": {},
   "source": [
    "## Evaluation"
   ]
  },
  {
   "cell_type": "markdown",
   "metadata": {},
   "source": [
    "### Performances"
   ]
  },
  {
   "cell_type": "markdown",
   "metadata": {},
   "source": [
    "Temps de calcul donné dans les cellules correspondantes"
   ]
  },
  {
   "cell_type": "markdown",
   "metadata": {},
   "source": [
    "index inversé CACM: 463 KB"
   ]
  },
  {
   "cell_type": "markdown",
   "metadata": {},
   "source": [
    "index inversé CS276: 81,3 MB"
   ]
  },
  {
   "cell_type": "markdown",
   "metadata": {},
   "source": [
    "fréquence index CACM: 659 KB"
   ]
  },
  {
   "cell_type": "markdown",
   "metadata": {},
   "source": [
    "fréquence index CS276: 93,5 MB"
   ]
  },
  {
   "cell_type": "code",
   "execution_count": null,
   "metadata": {},
   "outputs": [],
   "source": [
    "start = time()\n",
    "found_documents = vectorial_model.modele_vectoriel(\"Accelerating Convergence of Iterative Processes\",\n",
    "                                                   CACM_documents,\n",
    "                                                   cacm_dict_term,\n",
    "                                                   ponderation=\"tfidf\",\n",
    "                                                   type=\"CACM\")\n",
    "print(\"request time\", time() - start)\n",
    "print(found_documents)"
   ]
  },
  {
   "cell_type": "code",
   "execution_count": null,
   "metadata": {},
   "outputs": [],
   "source": [
    "CACM_documents[1143]"
   ]
  },
  {
   "cell_type": "code",
   "execution_count": null,
   "metadata": {},
   "outputs": [],
   "source": []
  }
 ],
 "metadata": {
  "kernelspec": {
   "display_name": "Python 3",
   "language": "python",
   "name": "python3"
  },
  "language_info": {
   "codemirror_mode": {
    "name": "ipython",
    "version": 3
   },
   "file_extension": ".py",
   "mimetype": "text/x-python",
   "name": "python",
   "nbconvert_exporter": "python",
   "pygments_lexer": "ipython3",
   "version": "3.7.1"
  }
 },
 "nbformat": 4,
 "nbformat_minor": 2
}
