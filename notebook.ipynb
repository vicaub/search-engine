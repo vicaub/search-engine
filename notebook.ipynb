{
 "cells": [
  {
   "cell_type": "markdown",
   "metadata": {},
   "source": [
    "# Projet Search-Engine - Fondement de la Recherche d'Information-WEB"
   ]
  },
  {
   "cell_type": "markdown",
   "metadata": {},
   "source": [
    "## Requirements installation\n",
    "Run:\n",
    "```\n",
    "pip3 install -r requirements.txt\n",
    "```"
   ]
  },
  {
   "cell_type": "markdown",
   "metadata": {},
   "source": [
    "# Tâche 1 : Création d’un index inversé et moteur de recherche booléen et vectorie"
   ]
  },
  {
   "cell_type": "markdown",
   "metadata": {},
   "source": [
    "## 2.1 Traitements linguistiques"
   ]
  },
  {
   "cell_type": "markdown",
   "metadata": {},
   "source": [
    "### Tokenisation des collections"
   ]
  },
  {
   "cell_type": "markdown",
   "metadata": {},
   "source": [
    "#### CACM"
   ]
  },
  {
   "cell_type": "markdown",
   "metadata": {},
   "source": [
    "importing datasets"
   ]
  },
  {
   "cell_type": "code",
   "execution_count": 5,
   "metadata": {
    "scrolled": true
   },
   "outputs": [
    {
     "name": "stderr",
     "output_type": "stream",
     "text": [
      "[nltk_data] Downloading package punkt to\n",
      "[nltk_data]     /Users/victoraubin/nltk_data...\n",
      "[nltk_data]   Package punkt is already up-to-date!\n"
     ]
    }
   ],
   "source": [
    "import file_reading\n",
    "import tokenization"
   ]
  },
  {
   "cell_type": "markdown",
   "metadata": {},
   "source": [
    "CACM (quick import and tokenization)"
   ]
  },
  {
   "cell_type": "code",
   "execution_count": 6,
   "metadata": {},
   "outputs": [],
   "source": [
    "CACM_documents = file_reading.read_cacm()  # raw dataset\n",
    "CACM_tokens_NLTK = tokenization.tokenize_CACM(CACM_documents)  # tokenization with NLTK and stoplist\n",
    "CACM_tokens = tokenization.tokenize_no_nltk_CACM(CACM_documents)  # Manual tokenization (stoplist)"
   ]
  },
  {
   "cell_type": "markdown",
   "metadata": {},
   "source": [
    "#### CS276"
   ]
  },
  {
   "cell_type": "markdown",
   "metadata": {},
   "source": [
    "Storing tokenized dataset into a pickle file that's reused"
   ]
  },
  {
   "cell_type": "code",
   "execution_count": 7,
   "metadata": {},
   "outputs": [
    {
     "name": "stdout",
     "output_type": "stream",
     "text": [
      "getting CS276 docs pickle\n",
      "getting CS276 tokens pickle\n",
      "done\n"
     ]
    }
   ],
   "source": [
    "import pickle\n",
    "import os\n",
    "\n",
    "if os.path.exists(\"tokenized_data/CS276_docs.pickle\"):\n",
    "    print(\"getting CS276 docs pickle\")\n",
    "    CS276_docs = pickle.load(open(\"tokenized_data/CS276_docs.pickle\", 'rb'))\n",
    "else:\n",
    "    print(\"reading CS297\")\n",
    "    CS276_docs = file_reading.read_cs276()\n",
    "    print(\"storing CS297 docs in a pickle\")\n",
    "    pickle.dump(CS276_docs, open(\"tokenized_data/CS276_docs.pickle\", 'wb'))\n",
    "\n",
    "if os.path.exists(\"tokenized_data/CS276_tokens.pickle\"):\n",
    "    print(\"getting CS276 tokens pickle\")\n",
    "    CS276_tokens = pickle.load(open(\"tokenized_data/CS276_tokens.pickle\", 'rb'))\n",
    "else:\n",
    "    print(\"making CS276 tokens\")\n",
    "    CS276_tokens = tokenization.tokenize_CS276(CS276_docs)\n",
    "    print(\"storing CS276 in a pickle\")\n",
    "    pickle.dump(CS276_tokens, open(\"tokenized_data/CS276_tokens.pickle\", \"wb\"))\n",
    "print(\"done\")"
   ]
  },
  {
   "cell_type": "markdown",
   "metadata": {},
   "source": [
    "### Nombre de tokens"
   ]
  },
  {
   "cell_type": "code",
   "execution_count": 8,
   "metadata": {},
   "outputs": [
    {
     "name": "stdout",
     "output_type": "stream",
     "text": [
      "Nombre de tokens pour CACM (sans NLTK):\n",
      "73126\n",
      "Nombre de tokens pour CACM (avec NLTK):\n",
      "92997\n",
      "Nombre de tokens pour CS276:\n",
      "2704051\n"
     ]
    }
   ],
   "source": [
    "print(\"Nombre de tokens pour CACM (sans NLTK):\")\n",
    "T1 = sum([len(L) for L in CACM_tokens])\n",
    "print(T1)\n",
    "\n",
    "print(\"Nombre de tokens pour CACM (avec NLTK):\")\n",
    "T1 = sum([len(L) for L in CACM_tokens_NLTK])\n",
    "print(T1)\n",
    "\n",
    "print(\"Nombre de tokens pour CS276:\")\n",
    "T1 = sum([len(L) for L in CS276_tokens])\n",
    "print(T1)"
   ]
  },
  {
   "cell_type": "markdown",
   "metadata": {},
   "source": [
    "### Taille du vocabulaire"
   ]
  },
  {
   "cell_type": "code",
   "execution_count": 9,
   "metadata": {
    "scrolled": false
   },
   "outputs": [
    {
     "name": "stdout",
     "output_type": "stream",
     "text": [
      "Vocabulaire pour CACM: \n",
      "9496\n",
      "Vocabulaire pour CACM (avec NLTK): \n",
      "11157\n",
      "Vocabulaire pour CS276_tokens: \n",
      "346650\n"
     ]
    }
   ],
   "source": [
    "print(\"Vocabulaire pour CACM: \")\n",
    "M1 = len(CACM_tokens)\n",
    "print(M1)\n",
    "# print(CACM_tokens.keys())\n",
    "\n",
    "print(\"Vocabulaire pour CACM (avec NLTK): \")\n",
    "M1 = len(CACM_tokens_NLTK)\n",
    "print(M1)\n",
    "# print(CACM_tokens.keys())\n",
    "\n",
    "print(\"Vocabulaire pour CS276_tokens: \")\n",
    "M1 = len(CS276_tokens)\n",
    "print(M1)\n",
    "# print(CS276_tokens.keys())"
   ]
  },
  {
   "cell_type": "markdown",
   "metadata": {},
   "source": [
    "### Loi Heap et estimation pour 1M vocabulaire"
   ]
  },
  {
   "cell_type": "markdown",
   "metadata": {},
   "source": [
    "CACM"
   ]
  },
  {
   "cell_type": "code",
   "execution_count": 10,
   "metadata": {},
   "outputs": [
    {
     "name": "stdout",
     "output_type": "stream",
     "text": [
      "heap low for collection CACM without NLTK\n",
      "K = 0.16412801642665256, b = 0.9790887476936934\n",
      "Pour 1 million de tokens, vocabulaire :\n",
      "122946\n"
     ]
    }
   ],
   "source": [
    "d_half = tokenization.tokenize_no_nltk_CACM(CACM_documents[:len(CACM_documents)//2])\n",
    "tokenization.print_heap_law(CACM_tokens, d_half, \"CACM without NLTK\")"
   ]
  },
  {
   "cell_type": "code",
   "execution_count": 11,
   "metadata": {},
   "outputs": [
    {
     "name": "stdout",
     "output_type": "stream",
     "text": [
      "heap low for collection CACM with NLTK\n",
      "K = 0.19899997076491205, b = 0.9557661482715758\n",
      "Pour 1 million de tokens, vocabulaire :\n",
      "108006\n"
     ]
    }
   ],
   "source": [
    "d_half = tokenization.tokenize_CACM(CACM_documents[:len(CACM_documents)//2])\n",
    "tokenization.print_heap_law(CACM_tokens_NLTK, d_half, \"CACM with NLTK\")"
   ]
  },
  {
   "cell_type": "markdown",
   "metadata": {},
   "source": [
    "CS276"
   ]
  },
  {
   "cell_type": "code",
   "execution_count": 12,
   "metadata": {},
   "outputs": [
    {
     "name": "stdout",
     "output_type": "stream",
     "text": [
      "heap low for collection CS276\n",
      "K = 0.11194888485284703, b = 1.0091505625243606\n",
      "Pour 1 million de tokens, vocabulaire :\n",
      "127034\n"
     ]
    }
   ],
   "source": [
    "CS276_tokens_heap = CS276_tokens.copy()\n",
    "ids_to_delete = list(range(len(CS276_docs)//2))\n",
    "\n",
    "for document_ids in CS276_tokens_heap.values():\n",
    "    filter(lambda d_id: d_id not in ids_to_delete, document_ids)\n",
    "\n",
    "tokenization.print_heap_law(CS276_tokens, d_half, \"CS276\")"
   ]
  },
  {
   "cell_type": "markdown",
   "metadata": {},
   "source": [
    "### Graphes frequence / rang et log(frequence) / log(rang)"
   ]
  },
  {
   "cell_type": "code",
   "execution_count": 13,
   "metadata": {},
   "outputs": [],
   "source": [
    "freq_CACM = tokenization.word_frequency(CACM_tokens)\n",
    "freq_CACM_NLTK = tokenization.word_frequency(CACM_tokens_NLTK)\n",
    "freq_CS276 = tokenization.word_frequency(CS276_tokens)"
   ]
  },
  {
   "cell_type": "markdown",
   "metadata": {},
   "source": [
    "#### CACM without NLTK"
   ]
  },
  {
   "cell_type": "code",
   "execution_count": 14,
   "metadata": {},
   "outputs": [
    {
     "data": {
      "text/plain": [
       "<Figure size 640x480 with 1 Axes>"
      ]
     },
     "metadata": {},
     "output_type": "display_data"
    }
   ],
   "source": [
    "import matplotlib.pyplot as plt\n",
    "list_word = [tokenization.Token_sorter(word, freq_CACM[word]) for word in freq_CACM.keys()]\n",
    "list_word.sort()\n",
    "X = range(1, len(list_word) + 1)\n",
    "Y = [word.f for word in list_word]\n",
    "plt.title('pour CACM sans NLTK')\n",
    "plt.ylabel('frequence')\n",
    "plt.xlabel('rang')\n",
    "plt.plot(X, Y,)\n",
    "plt.show()"
   ]
  },
  {
   "cell_type": "code",
   "execution_count": 15,
   "metadata": {
    "scrolled": true
   },
   "outputs": [
    {
     "data": {
      "image/png": "[encoded data removed]",
      "text/plain": [
       "<Figure size 432x288 with 1 Axes>"
      ]
     },
     "metadata": {
      "needs_background": "light"
     },
     "output_type": "display_data"
    }
   ],
   "source": [
    "from numpy import log, array\n",
    "X2= log(array(X))\n",
    "Y2 = log(array(Y))\n",
    "plt.title('pour CACM sans NLTK')\n",
    "plt.ylabel('log(frequence)')\n",
    "plt.xlabel('log(rang)')\n",
    "plt.plot(X2, Y2)\n",
    "plt.show()"
   ]
  },
  {
   "cell_type": "markdown",
   "metadata": {},
   "source": [
    "#### CACM with NLTK"
   ]
  },
  {
   "cell_type": "code",
   "execution_count": 16,
   "metadata": {},
   "outputs": [
    {
     "data": {
      "image/png": "[encoded data removed]",
      "text/plain": [
       "<Figure size 432x288 with 1 Axes>"
      ]
     },
     "metadata": {
      "needs_background": "light"
     },
     "output_type": "display_data"
    }
   ],
   "source": [
    "list_word = [tokenization.Token_sorter(word, freq_CACM_NLTK[word]) for word in freq_CACM_NLTK.keys()]\n",
    "list_word.sort()\n",
    "X = range(1, len(list_word) + 1)\n",
    "Y = [word.f for word in list_word]\n",
    "plt.title('pour CACM avec NLTK')\n",
    "plt.ylabel('frequence')\n",
    "plt.xlabel('rang')\n",
    "plt.plot(X, Y)\n",
    "plt.show()"
   ]
  },
  {
   "cell_type": "code",
   "execution_count": 17,
   "metadata": {},
   "outputs": [
    {
     "data": {
      "image/png": "[encoded data removed]",
      "text/plain": [
       "<Figure size 432x288 with 1 Axes>"
      ]
     },
     "metadata": {
      "needs_background": "light"
     },
     "output_type": "display_data"
    }
   ],
   "source": [
    "from numpy import log, array\n",
    "X2= log(array(X))\n",
    "Y2 = log(array(Y))\n",
    "plt.title('pour CACM avec NLTK')\n",
    "plt.ylabel('log(frequence)')\n",
    "plt.xlabel('log(rang)')\n",
    "plt.plot(X2, Y2)\n",
    "plt.show()"
   ]
  },
  {
   "cell_type": "markdown",
   "metadata": {},
   "source": [
    "#### CS276"
   ]
  },
  {
   "cell_type": "code",
   "execution_count": 18,
   "metadata": {},
   "outputs": [
    {
     "data": {
      "image/png": "[encoded data removed]",
      "text/plain": [
       "<Figure size 432x288 with 1 Axes>"
      ]
     },
     "metadata": {
      "needs_background": "light"
     },
     "output_type": "display_data"
    }
   ],
   "source": [
    "list_word = [tokenization.Token_sorter(word, freq_CS276[word]) for word in freq_CS276.keys()]\n",
    "list_word.sort()\n",
    "X = range(1, len(list_word) + 1)\n",
    "Y = [word.f for word in list_word]\n",
    "plt.plot(X, Y)\n",
    "plt.title('pour CS276')\n",
    "plt.ylabel('frequence')\n",
    "plt.xlabel('rang')\n",
    "plt.show()"
   ]
  },
  {
   "cell_type": "code",
   "execution_count": 19,
   "metadata": {},
   "outputs": [
    {
     "data": {
      "image/png": "[encoded data removed]",
      "text/plain": [
       "<Figure size 432x288 with 1 Axes>"
      ]
     },
     "metadata": {
      "needs_background": "light"
     },
     "output_type": "display_data"
    }
   ],
   "source": [
    "from numpy import log, array\n",
    "X2= log(array(X))\n",
    "Y2 = log(array(Y))\n",
    "plt.title('pour CS276')\n",
    "plt.ylabel('log(frequence)')\n",
    "plt.xlabel('log(rang)')\n",
    "plt.plot(X2, Y2)\n",
    "plt.show()"
   ]
  },
  {
   "cell_type": "markdown",
   "metadata": {},
   "source": [
    "### Index inversé"
   ]
  },
  {
   "cell_type": "markdown",
   "metadata": {},
   "source": [
    "On crée des indexes inversés pour les corpus CACM et CS276 dans des fichiers `invesed_index/cacm/cacm.output`\n",
    "\n",
    "Des fichiers intermédiaires sont générés pour alleger la mémoire `invesed_index/cacm/cacm.output_x`\n",
    "\n",
    "Chaque ligne contient l'id du token en premiere position, puis la liste des id des documents qui contiennent ce token"
   ]
  },
  {
   "cell_type": "code",
   "execution_count": 20,
   "metadata": {},
   "outputs": [],
   "source": [
    "import inversed_index\n",
    "from time import time"
   ]
  },
  {
   "cell_type": "markdown",
   "metadata": {},
   "source": [
    "#### CACM without NKTK (better performances)"
   ]
  },
  {
   "cell_type": "code",
   "execution_count": 21,
   "metadata": {},
   "outputs": [
    {
     "name": "stdout",
     "output_type": "stream",
     "text": [
      "l'indexation de CACM a pris 6.653420925140381 secondes\n"
     ]
    }
   ],
   "source": [
    "cacm_dict_term = {}\n",
    "i = 0\n",
    "for token in CACM_tokens:\n",
    "    if token not in cacm_dict_term:\n",
    "        cacm_dict_term[token] = i\n",
    "        i += 1\n",
    "\n",
    "start = time()\n",
    "inversed_index.index_inverse_global(CACM_documents, 1000,\n",
    "                                    \"inversed_index/cacm/cacm.output\",\n",
    "                                    cacm_dict_term,\n",
    "                                    type=\"CACM\")\n",
    "print(\"l'indexation de CACM a pris\", time() - start, \"secondes\")"
   ]
  },
  {
   "cell_type": "markdown",
   "metadata": {},
   "source": [
    "#### CS276 (supprimez les fichiers inversed_index/cs276/cs276.output pour les recalculer)"
   ]
  },
  {
   "cell_type": "code",
   "execution_count": 22,
   "metadata": {},
   "outputs": [],
   "source": [
    "cs276_dict_term = {}\n",
    "i = 0\n",
    "for token in CS276_tokens:\n",
    "    if token not in cs276_dict_term:\n",
    "        cs276_dict_term[token] = i\n",
    "        i += 1\n",
    "\n",
    "if not os.path.exists(\"inversed_index/cs276/cs276.output\"):\n",
    "    start = time()\n",
    "    inversed_index.index_inverse_global(CS276_docs, 1000,\n",
    "                                        \"inversed_index/cs276/cs276.output\",\n",
    "                                        cs276_dict_term,\n",
    "                                        type=\"CS276\")\n",
    "    print(\"l'indexation de CS276 a pris\", time() - start, \"secondes\")"
   ]
  },
  {
   "cell_type": "markdown",
   "metadata": {},
   "source": [
    "# Index inversé fréquentiel"
   ]
  },
  {
   "cell_type": "markdown",
   "metadata": {},
   "source": [
    "On crée des indexes inversés fréquentiels pour les corpus CACM et CS276 dans des fichiers frequential_index/cacm/cacm.output\n",
    "\n",
    "Des fichiers intermédiaires sont générés pour alleger la mémoire frequential_index/cacm/cacm.output_x\n",
    "\n",
    "Chaque ligne contient l'id du token en premiere position, puis la liste des couples document_id/frequence"
   ]
  },
  {
   "cell_type": "code",
   "execution_count": 23,
   "metadata": {},
   "outputs": [],
   "source": [
    "import frequency_index"
   ]
  },
  {
   "cell_type": "markdown",
   "metadata": {},
   "source": [
    "#### CACM without NKTK (better performances)"
   ]
  },
  {
   "cell_type": "code",
   "execution_count": 24,
   "metadata": {},
   "outputs": [
    {
     "name": "stdout",
     "output_type": "stream",
     "text": [
      "l'indexation fréquentielle de CACM a pris 6.983358144760132 secondes\n"
     ]
    }
   ],
   "source": [
    "start = time()\n",
    "frequency_index.index_inverse_global_with_frequency(CACM_documents, 1000,\n",
    "                                                      \"frequential_index/cacm/cacm.output\",\n",
    "                                                      cacm_dict_term,\n",
    "                                                      type=\"CACM\")\n",
    "print(\"l'indexation fréquentielle de CACM a pris\", time() - start, \"secondes\")"
   ]
  },
  {
   "cell_type": "markdown",
   "metadata": {},
   "source": [
    "#### CS276"
   ]
  },
  {
   "cell_type": "code",
   "execution_count": 25,
   "metadata": {},
   "outputs": [],
   "source": [
    "if not os.path.exists(\"frequential_index/cs276/cs276.output\"):\n",
    "    start = time()\n",
    "    frequency_index.index_inverse_global_with_frequency(CS276_docs, 1000,\n",
    "                                                      \"frequential_index/cs276/cs276.output\",\n",
    "                                                      cs276_dict_term,\n",
    "                                                      type=\"CS276\")\n",
    "    print(\"l'indexation fréquentielle de CS276 a pris\", time() - start, \"secondes\")"
   ]
  },
  {
   "cell_type": "markdown",
   "metadata": {},
   "source": [
    "## Modele booleen"
   ]
  },
  {
   "cell_type": "markdown",
   "metadata": {},
   "source": [
    "La recherche booléenne prend une entrée booléenne du type \"token&token|(!token&token)\". L'expression booleenne est transformée en expression polonaise pour prendre en compte efficacement les parenthèses. Le programme renvoie un set des ids des documents qui contiennent l'expression et le temps de utilisé pour calculer. "
   ]
  },
  {
   "cell_type": "code",
   "execution_count": 26,
   "metadata": {},
   "outputs": [],
   "source": [
    "import boolean_model"
   ]
  },
  {
   "cell_type": "markdown",
   "metadata": {},
   "source": [
    "#### CACM"
   ]
  },
  {
   "cell_type": "code",
   "execution_count": 27,
   "metadata": {},
   "outputs": [
    {
     "name": "stdout",
     "output_type": "stream",
     "text": [
      "\n",
      "query: Algebraic&Language|(Preliminary&printer)\n",
      "request time: 0.017004013061523438\n",
      "result: {'1223', '1471', '2645', '1543', '1253', '93', '99', '1216', '3077', '2958', '2547', '54', '1589', '1453', '1', '1824'}\n",
      "\n",
      "query: Algebraic&!Language\n",
      "request time: 0.0039060115814208984\n",
      "result: set()\n",
      "\n",
      "query: The&Secant&Method&for&Simultaneous&Nonlinear&Equations\n",
      "request time: 0.009938955307006836\n",
      "result: {'39'}\n",
      "\n",
      "query: Binary&Representation|(Algebraic&Language)\n",
      "request time: 0.007287740707397461\n",
      "result: {'40', '2525', '2987', '2801', '2787', '3041', '3115', '2446', '2702'}\n"
     ]
    }
   ],
   "source": [
    "boolean_queries = [\n",
    "    \"Algebraic&Language|(Preliminary&printer)\",\n",
    "    \"Algebraic&!Language\",\n",
    "    \"The&Secant&Method&for&Simultaneous&Nonlinear&Equations\",\n",
    "    \"Binary&Representation|(Algebraic&Language)\"\n",
    "]\n",
    "for query in boolean_queries:\n",
    "    print()\n",
    "    debut = time()\n",
    "    result = boolean_model.boolean_model(query, CACM_documents, cacm_dict_term, type=\"CACM\")\n",
    "    print(\"query:\", query)\n",
    "    print(\"request time:\", time() - debut)\n",
    "    print(\"result:\", result)"
   ]
  },
  {
   "cell_type": "markdown",
   "metadata": {},
   "source": [
    "#### CS276"
   ]
  },
  {
   "cell_type": "code",
   "execution_count": 28,
   "metadata": {
    "scrolled": true
   },
   "outputs": [
    {
     "name": "stdout",
     "output_type": "stream",
     "text": [
      "\n",
      "query: contact&us&about&us&food&allergies&stanford&medicine\n",
      "request time: 2.088498830795288\n",
      "result: {'39841', '79807', '29306', '85984', '30431', '45696'}\n",
      "\n",
      "query: contact&us&about&us&!food\n",
      "request time: 0.3460252285003662\n",
      "result: set()\n",
      "\n",
      "query: (climate&change)|(agricultural&adaptation)&!politic&!university\n",
      "request time: 3.451915979385376\n",
      "result: {'62699', '12347', '41330', '101', '5639', '75837', '79422', '64677', '85249', '43335', '47939', '70841', '79499', '64017', '68472', '9770', '67183', '77591', '95150', '91247', '74111', '59786', '59864', '9858', '19578', '5601', '41283', '73222', '79217', '39438', '59776', '38888', '78063', '80890', '13088', '79767', '17297', '77225', '90285', '45966', '42159', '73546', '61106', '67305', '11385', '45808', '59226', '98803', '45520', '41869', '77739', '37209', '64616', '72975', '75668', '14972', '14684', '79450', '81773', '62709', '86365', '36175', '65663', '13479', '66766', '42484', '88314', '91372', '11133', '39548', '75381', '79757', '35671', '81611', '81979', '62059', '47703', '66875', '86199', '10654', '68490', '60019', '75695', '2679', '43385', '80953', '13810', '65632', '62020', '10599', '12631', '54613', '8022', '63678', '70457', '62089', '82279', '61557', '14213', '67052', '47643', '41123', '13657', '41421', '14983', '79679', '44259', '39650', '86635', '33349', '39987', '86620', '4907', '37695', '48990', '83480', '87650', '45432', '74564', '76715', '69932', '94088', '86013', '72333', '25570', '31115', '36857', '71054', '62870', '46674', '80835', '88951', '12333', '66698', '83182', '77857', '17040', '12982', '82793', '13037', '86706', '82024', '16037', '68852', '5716', '18466', '46947', '61433', '62754', '79820', '95850', '66709', '74038', '88780', '93080', '82192', '73955', '68909', '45982', '40779', '79685', '83470', '81767', '2452', '11211', '94188', '70095', '60016', '87600', '33908', '26597', '80272', '71609', '40516', '24522', '66603', '76917', '17881', '67096', '65901', '60247', '62811', '64566', '61951', '81560', '46297', '44594', '70671', '74465', '60846', '62706', '76120', '8642', '78815', '18018', '40839', '59242', '86817', '88828', '73935', '85908', '24594', '67670', '68447', '86571', '68409', '96865', '52719', '63565', '90117', '59754', '46396', '81066', '79133', '44102', '8900', '30698', '27827', '32821', '44089', '67951', '4757', '96416', '47028', '67408', '86069', '82609', '21235', '59620', '83960', '39891', '82948', '75776', '59254', '61104', '62817', '65809', '82234', '33055', '67851', '59232', '60438', '79026', '13202', '7061', '49680', '63749', '77442', '64422', '82994', '31483', '63811', '62136', '82037', '38087', '60418', '93556', '86508', '18271', '8608', '59108', '77502', '85830', '32797', '81404', '38062', '81862', '65042', '80651', '44741', '85372', '83654', '92512', '41811', '66770', '36725', '85547', '83624', '40598', '70774', '86829', '85427', '85110', '66765', '45725', '42737', '45026', '48804', '71825', '61579', '65794', '70516', '71272', '64881', '61910', '61144', '80302', '66793', '40773', '12369', '86100', '11123', '95109', '94917', '31158', '77967', '72943', '64088', '62549', '61131', '19365', '72030', '9861', '85162', '43850', '36274', '86761', '5796', '65077', '83806', '15053', '95659', '61491', '47031', '47567', '11180', '83369', '25707', '12742', '83337', '77860', '36747', '88394', '80255', '83947', '34230', '72127', '46637', '80102', '64330', '1387', '33923', '95017', '63108', '75872', '45170', '67456', '67650', '88498', '60551', '64047', '41483', '65819', '68994', '9007', '88772', '79731', '48037', '62014', '2021', '82813', '81842', '83267', '37741', '73700', '61057', '33749', '12593', '43277', '62323', '36319', '87244', '85405', '60100', '67186', '67607', '59901', '88738', '36834', '78406', '62591', '22119', '34152', '95677', '14661', '26828', '68076', '4754', '83376', '61181', '48912', '63285', '83481', '41905', '11821', '44343', '31934', '40857', '46284', '40166', '29', '48810', '47684', '12234', '16910', '45316', '88777', '9260', '81968', '62796', '41628', '8784', '46744', '68085', '61550', '79224', '66722', '40645', '83564', '43232', '39312', '63191', '78097', '47940', '2343', '48700', '69668', '54147', '86919', '34538', '58409', '88821', '16169', '84113', '81988', '81396', '39908', '38619', '79357', '83822', '86888', '65623', '65628', '82951', '60440', '87543', '82304', '81649', '86851', '68460', '87099', '82005', '78163', '45324', '92516', '61634', '60211', '42811', '46195', '83233', '24721', '65880', '88494', '77067', '43214', '80538', '42499', '87962', '64362', '39066', '59534', '60932', '37720', '80461', '94331', '38437', '46788', '64978', '28287', '7255', '80745', '68568', '70259', '32228', '24108', '66100', '1556', '65546', '81193', '66980', '89554', '65099', '16903', '72990', '67073', '65121', '68102', '68197', '22113', '74730', '79260', '59688', '32338', '80761', '82902', '40374', '65958', '10271', '7068', '62922', '87362', '62001', '65163', '55249', '10600', '62677', '59788', '65419', '66366', '3632', '66389', '85819', '67549', '71563', '96592', '39785', '91014', '60409', '85479', '41908', '82602', '59405', '39974', '67921', '34483', '12607', '85963', '62637', '937', '40840', '38645', '88119', '85922', '88454', '84259', '68567', '63873', '47794', '12573', '60573', '30222', '72431', '88403', '18461', '29219', '2052', '32792', '60486', '68424', '82461', '66837', '75198', '78973', '68570', '42478', '89774', '66922', '46069', '82649', '80231', '47644', '95855', '74143', '10473', '66261', '64495', '9860', '69292', '13535', '83892', '68912', '74039', '28863', '3830', '79063', '66435', '82852', '85588', '87743', '27583', '75043', '73712', '60875', '83875', '37733', '80813', '22376', '10721', '42959', '24855', '71047', '85189', '1930', '39685', '70631', '38831', '66713', '18954', '42075', '16400', '82250', '39778', '84103', '17923', '65640', '84276', '39549', '62628', '83787', '59186', '66865', '82002', '83214', '41340', '82787', '79671', '61519', '20404', '60419', '60455', '37061', '69367', '46121', '90506', '62200', '41085', '66636', '68880', '78044', '88399', '79314', '66286', '85003', '62245', '71935', '13504', '23984', '59653', '41382', '45484', '88062', '64608', '46581', '61469', '44597', '78348', '3354', '59774', '66848', '79326', '98314', '46652', '68221', '79676', '74846', '68223', '32891', '87382', '82377', '76867', '47237', '21578', '84442', '66468', '17828', '80246', '71400', '46961', '85453', '60249', '65878', '87245', '73416', '39221', '84782', '516', '86092', '31768', '34921', '67911', '70239', '85039', '18244', '66768', '60055', '84956', '20062', '71335', '73694', '64380', '38161', '34135', '80420', '68885', '68526', '62067', '42400', '44715', '88270', '19699', '39124', '77332', '59924', '5973', '61884', '94593', '59245', '42407', '11699', '76891', '9440', '39386', '29745', '63585', '59473', '79815', '46334', '32476', '81546', '82328', '88610', '43183', '63662', '38487', '61413', '8075', '74348', '77369', '23567', '1603', '60863', '62070', '29749', '39734', '81083', '87482', '47041', '60636', '64659', '66356', '65942', '68971', '88110', '91991', '87376', '3157', '61487', '68247', '31449', '69490', '48539', '60511', '82859', '84996', '13717', '60858', '78523', '61691', '61271', '62959', '68366', '68045', '44354', '71449', '63647', '64339', '46993', '63494', '76661', '48094', '30331', '47953', '3964', '61039', '14987', '43993', '46825', '1743', '88294', '82874', '24383', '84949', '12329', '71327', '65212', '59183', '60966', '95608', '540', '85701', '85741', '46278', '80370', '70526', '67028', '20320', '65219', '55914', '69646', '69852', '9241', '38021', '58597', '81025', '30177', '81791', '83670', '67623', '83797', '68883', '34718', '85678', '7568', '2224', '86459', '78529', '69940', '67261', '78470', '65007', '60340', '44393', '59635', '68819', '13617', '62273', '39314', '79235', '34882', '64923', '74280', '94916', '67937', '15663', '94020', '66222', '40863', '91704', '17640', '46775', '18411', '31285', '81229', '86328', '6445', '71430', '84356', '15575', '60673', '45285', '65707', '79571', '84403', '82628', '83863', '65525', '96905', '65759', '86735', '10765', '78299', '64115', '42935', '68121', '79652', '69672', '61182', '14336', '11773', '36431', '67444', '63033', '8618', '86927', '60907', '66866', '30771', '84848', '78504', '47914', '63667', '60692', '81502', '45146', '26099', '79361', '3455', '83568', '87671', '39864', '3369', '79501', '65734', '87750', '85075', '73376', '84833', '18668', '80546', '88037', '30976', '63400', '81787', '67754', '5439', '46703', '67262', '16185', '12657', '21010', '36627', '80159', '5764', '9970', '16276', '16407', '81743', '5400', '81395', '86358', '60806', '90374', '61666', '77667', '84051', '84346', '11463', '5702', '76378', '93485', '63540', '65175', '64750', '10818', '60682', '82127', '61509', '66946', '16047', '41958', '71895', '79782', '73602', '18642', '87595', '16028', '62609', '87077', '83313', '85541', '87529', '65371', '14583', '41654', '82792', '64711', '68268', '34156', '42779', '12208', '77441', '79848', '85361', '14300', '88837', '5489', '63896', '70047', '34102', '87546', '87619', '80441', '59093', '94432', '48306', '65282', '59158', '86976', '11187', '75253', '10370', '8904', '63176', '69808', '73221', '20101', '88917', '1787', '66984', '79299', '83105', '6325', '64558', '63365', '98012', '8721', '83411', '67351', '761', '82305', '74906', '182', '7416', '62138', '67632', '83817', '63948', '89309', '68538', '428', '67968', '68493', '76868', '18552', '15312', '87024', '65402', '41178', '67257', '40172', '37023', '45294', '67859', '62632', '39032', '83645', '39934', '41107', '11452', '66827', '70462', '66488', '71126', '66314', '63673', '66694', '81561', '76487', '80327', '66453', '36092', '12285', '29854', '60570', '85220', '85188', '69243', '59986', '60982', '93263', '84221', '4964', '45416', '64133', '38104', '85032', '59440', '5491', '62805', '72546', '48565', '85531', '46394', '55139', '85269', '65700', '71029', '86856', '41302', '60317', '78896', '60126', '86000', '67683', '45535', '62571', '59477', '85264', '85813', '76703', '39129', '79574', '40309', '46558', '9611', '65242', '64556', '66336', '84306', '24506', '96004', '68616', '13163', '62855', '6759', '68338', '54298', '59371'}\n"
     ]
    }
   ],
   "source": [
    "from time import time\n",
    "\n",
    "boolean_queries = [\n",
    "    \"contact&us&about&us&food&allergies&stanford&medicine\",\n",
    "    \"contact&us&about&us&!food\",\n",
    "    \"(climate&change)|(agricultural&adaptation)&!politic&!university\"\n",
    "]\n",
    "for query in boolean_queries:\n",
    "    print()\n",
    "    debut = time()\n",
    "    result = boolean_model.boolean_model(query, CS276_docs, cs276_dict_term, type=\"CS276\")\n",
    "    print(\"query:\", query)\n",
    "    print(\"request time:\", time() - debut)\n",
    "    print(\"result:\", result)"
   ]
  },
  {
   "cell_type": "markdown",
   "metadata": {},
   "source": [
    "## Modele vectoriel"
   ]
  },
  {
   "cell_type": "code",
   "execution_count": 29,
   "metadata": {},
   "outputs": [],
   "source": [
    "import vectorial_model\n",
    "from importlib import reload\n",
    "vectorial_model = reload(vectorial_model)"
   ]
  },
  {
   "cell_type": "markdown",
   "metadata": {},
   "source": [
    "##### CACM"
   ]
  },
  {
   "cell_type": "code",
   "execution_count": 30,
   "metadata": {},
   "outputs": [
    {
     "name": "stdout",
     "output_type": "stream",
     "text": [
      "request time 0.16472125053405762\n",
      "[2047, 2033, 2030, 2024, 2020]\n"
     ]
    }
   ],
   "source": [
    "# ponderation tf-idf\n",
    "start = time()\n",
    "found_documents = vectorial_model.modele_vectoriel(\"paper\",\n",
    "                                                   CACM_documents,\n",
    "                                                   cacm_dict_term,\n",
    "                                                   ponderation=\"tfidf\",\n",
    "                                                   type=\"CACM\")\n",
    "print(\"request time\", time() - start)\n",
    "print(found_documents[:5])"
   ]
  },
  {
   "cell_type": "code",
   "execution_count": 31,
   "metadata": {},
   "outputs": [
    {
     "name": "stdout",
     "output_type": "stream",
     "text": [
      "request time 13.099160194396973\n",
      "[1453, 3147, 3034, 497, 2367]\n"
     ]
    }
   ],
   "source": [
    "# ponderation tf-idf normalisé\n",
    "start = time()\n",
    "found_documents = vectorial_model.modele_vectoriel(\"This paper describes an alternate method for summing a set of floating-point numbers.  Comparison of the error bound for this method with that of the standard summation method shows that it is considerably less sensitive to propagation of round-off error.\",\n",
    "                                                   CACM_documents,\n",
    "                                                   cacm_dict_term,\n",
    "                                                   ponderation=\"tfidf_norm\",\n",
    "                                                   type=\"CACM\")\n",
    "print(\"request time\", time() - start)\n",
    "print(found_documents[:5])"
   ]
  },
  {
   "cell_type": "code",
   "execution_count": 32,
   "metadata": {},
   "outputs": [
    {
     "name": "stdout",
     "output_type": "stream",
     "text": [
      "request time 8.909752130508423\n",
      "[2024, 2020, 1978, 1945, 1937]\n"
     ]
    }
   ],
   "source": [
    "# ponderation frequence normalisé\n",
    "start = time()\n",
    "found_documents = vectorial_model.modele_vectoriel(\"This paper describes an alternate method for summing a set of floating-point numbers.  Comparison of the error bound for this method with that of the standard summation method shows that it is considerably less sensitive to propagation of round-off error.\",\n",
    "                                                   CACM_documents,\n",
    "                                                   cacm_dict_term,\n",
    "                                                   ponderation=\"norm_freq\",\n",
    "                                                   type=\"CACM\")\n",
    "print(\"request time\", time() - start)\n",
    "print(found_documents[:5])"
   ]
  },
  {
   "cell_type": "markdown",
   "metadata": {},
   "source": [
    "#### CS276"
   ]
  },
  {
   "cell_type": "code",
   "execution_count": 33,
   "metadata": {},
   "outputs": [
    {
     "name": "stdout",
     "output_type": "stream",
     "text": [
      "request time 2.0802083015441895\n",
      "[4769, 73673, 3922, 36664, 52983]\n"
     ]
    }
   ],
   "source": [
    "start = time()\n",
    "found_documents = vectorial_model.modele_vectoriel(\"hello hello\",\n",
    "                                                   CS276_docs,\n",
    "                                                   cs276_dict_term,\n",
    "                                                   ponderation=\"tfidf\",\n",
    "                                                   type=\"CS276\")\n",
    "print(\"request time\", time() - start)\n",
    "print(found_documents[:5])"
   ]
  },
  {
   "cell_type": "markdown",
   "metadata": {},
   "source": [
    "## Evaluation"
   ]
  },
  {
   "cell_type": "markdown",
   "metadata": {},
   "source": [
    "### Performances"
   ]
  },
  {
   "cell_type": "markdown",
   "metadata": {},
   "source": [
    "Temps de calcul donné dans les cellules correspondantes"
   ]
  },
  {
   "cell_type": "markdown",
   "metadata": {},
   "source": [
    "index inversé CACM: 463 KB"
   ]
  },
  {
   "cell_type": "markdown",
   "metadata": {},
   "source": [
    "index inversé CS276: 81,3 MB"
   ]
  },
  {
   "cell_type": "markdown",
   "metadata": {},
   "source": [
    "fréquence index CACM: 659 KB"
   ]
  },
  {
   "cell_type": "markdown",
   "metadata": {},
   "source": [
    "fréquence index CS276: 93,5 MB"
   ]
  },
  {
   "cell_type": "code",
   "execution_count": 34,
   "metadata": {},
   "outputs": [
    {
     "name": "stdout",
     "output_type": "stream",
     "text": [
      "request time 0.048876047134399414\n",
      "[2378, 2320, 1749, 1748, 1135, 3141, 3128, 3056, 1518, 3043, 3039, 2522, 2519, 2504, 1458, 942, 1960, 2979, 412, 1928, 2438, 1410, 2931, 2922, 2920, 1385, 2912, 2911, 2396, 2895, 2383, 2379, 2376, 2371, 1854, 825, 1846, 2865, 1828, 2851, 2848, 1308, 2327, 278, 1272, 243, 2795, 224, 2777, 1753, 1747, 2255, 2740, 2228, 1199, 1198, 1706, 1698, 2717, 1145, 3184, 2672, 618, 2150, 1098, 2629, 3140, 3127, 3120, 2080, 2581, 2580, 2060, 3081, 3078, 1541, 3072, 2342, 2408, 2210, 94, 1999, 2490, 2470, 2981, 2454, 2943, 1888, 1369, 319, 313, 286, 1805, 748, 2194, 636, 1643, 1622, 2105, 1593, 2266, 1722, 2047, 2544, 1435, 2353, 1811, 1806, 1260, 1212, 2742, 2229, 1197, 1159, 1586, 1587, 3073, 2307, 3025, 1873, 3182, 894, 380, 1692, 111, 1111, 1601, 20]\n"
     ]
    }
   ],
   "source": [
    "start = time()\n",
    "found_documents = vectorial_model.modele_vectoriel(\"Accelerating Convergence of Iterative Processes\",\n",
    "                                                   CACM_documents,\n",
    "                                                   cacm_dict_term,\n",
    "                                                   ponderation=\"tfidf\",\n",
    "                                                   type=\"CACM\")\n",
    "print(\"request time\", time() - start)\n",
    "print(found_documents)"
   ]
  },
  {
   "cell_type": "code",
   "execution_count": 35,
   "metadata": {},
   "outputs": [
    {
     "data": {
      "text/plain": [
       "['Digital Computer Determination of Alpha Source Activity',\n",
       " 'A technique is described for determining the activity and homogeneity of an alpha source.   It is believed that the technique, using a digital computer, has many uses and applications in the field  of nuclear physics. The technique involves computer manipulation of the digital image of the nuclear  source.  Experimental details are given.',\n",
       " '']"
      ]
     },
     "execution_count": 35,
     "metadata": {},
     "output_type": "execute_result"
    }
   ],
   "source": [
    "CACM_documents[1143]"
   ]
  },
  {
   "cell_type": "code",
   "execution_count": 36,
   "metadata": {},
   "outputs": [],
   "source": [
    "import evaluation"
   ]
  },
  {
   "cell_type": "markdown",
   "metadata": {},
   "source": [
    "#### Courbe precision / recall"
   ]
  },
  {
   "cell_type": "code",
   "execution_count": 37,
   "metadata": {},
   "outputs": [
    {
     "data": {
      "image/png": "[encoded data removed]",
      "text/plain": [
       "<Figure size 432x288 with 1 Axes>"
      ]
     },
     "metadata": {
      "needs_background": "light"
     },
     "output_type": "display_data"
    },
    {
     "data": {
      "image/png": "[encoded data removed]",
      "text/plain": [
       "<Figure size 432x288 with 1 Axes>"
      ]
     },
     "metadata": {
      "needs_background": "light"
     },
     "output_type": "display_data"
    },
    {
     "data": {
      "image/png": "[encoded data removed]",
      "text/plain": [
       "<Figure size 432x288 with 1 Axes>"
      ]
     },
     "metadata": {
      "needs_background": "light"
     },
     "output_type": "display_data"
    },
    {
     "data": {
      "image/png": "[encoded data removed]",
      "text/plain": [
       "<Figure size 432x288 with 1 Axes>"
      ]
     },
     "metadata": {
      "needs_background": "light"
     },
     "output_type": "display_data"
    },
    {
     "data": {
      "image/png": "[encoded data removed]",
      "text/plain": [
       "<Figure size 432x288 with 1 Axes>"
      ]
     },
     "metadata": {
      "needs_background": "light"
     },
     "output_type": "display_data"
    }
   ],
   "source": [
    "file_query = open(\"./Data/CACM/query.text\")\n",
    "\n",
    "pred = []\n",
    "true = []\n",
    "queries = []\n",
    "current_section = -1\n",
    "for line in file_query.readlines():\n",
    "    if line[0] == '.':\n",
    "        if line[1] == 'I':\n",
    "            queries.append([int(line.split(\" \")[1]), \"\"])\n",
    "        elif line[1] == 'W':\n",
    "            current_section = 1\n",
    "        else:\n",
    "            current_section = -1\n",
    "    else:\n",
    "        if current_section >= 0:\n",
    "            queries[-1][current_section] += \" \" + line.strip('\\n')\n",
    "\n",
    "file_query.close()\n",
    "\n",
    "for query in queries[:5]:\n",
    "    pred.append(vectorial_model.modele_vectoriel(query[1],\n",
    "                                                   CACM_documents,\n",
    "                                                   cacm_dict_term,\n",
    "                                                   ponderation=\"tfidf\",\n",
    "                                                   type=\"CACM\")[::-1])\n",
    "true = [[] for _ in range(len(queries))]\n",
    "target_file = open(\"./Data/CACM/qrels.text\")\n",
    "\n",
    "for target in target_file.readlines():\n",
    "    index = target.split(\" \")[0]\n",
    "    if index.startswith(\"0\"):\n",
    "        index = index[1:]\n",
    "    index = int(index)\n",
    "    true[index - 1].append(int(target.split(\" \")[1]))\n",
    "target_file.close() \n",
    "\n",
    "\n",
    "evaluation.plot_precision_recall_curve(pred[0], true[0])\n",
    "plt.show()\n",
    "\n",
    "evaluation.plot_precision_recall_curve(pred[1], true[1])\n",
    "plt.show()\n",
    "\n",
    "evaluation.plot_precision_recall_curve(pred[2], true[2])\n",
    "plt.show()\n",
    "\n",
    "evaluation.plot_precision_recall_curve(pred[3], true[3])\n",
    "plt.show()\n",
    "\n",
    "evaluation.plot_precision_recall_curve(pred[4], true[4])\n",
    "plt.show()"
   ]
  },
  {
   "cell_type": "markdown",
   "metadata": {},
   "source": [
    "On remarque que notre modèle vectoriel a un très bon recall mais une mauvaise précision. Dans une nouvelle version il faudrait limiter le nombre de résultat pour améliorer l'évaluation"
   ]
  },
  {
   "cell_type": "code",
   "execution_count": null,
   "metadata": {},
   "outputs": [],
   "source": []
  }
 ],
 "metadata": {
  "kernelspec": {
   "display_name": "Python 3",
   "language": "python",
   "name": "python3"
  },
  "language_info": {
   "codemirror_mode": {
    "name": "ipython",
    "version": 3
   },
   "file_extension": ".py",
   "mimetype": "text/x-python",
   "name": "python",
   "nbconvert_exporter": "python",
   "pygments_lexer": "ipython3",
   "version": "3.7.1"
  }
 },
 "nbformat": 4,
 "nbformat_minor": 2
}
