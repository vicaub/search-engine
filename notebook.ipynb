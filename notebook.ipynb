{
 "cells": [
  {
   "cell_type": "markdown",
   "metadata": {},
   "source": [
    "# Projet Search-Engine - Fondement de la Recherche d'Information-WEB"
   ]
  },
  {
   "cell_type": "markdown",
   "metadata": {},
   "source": [
    "## Requirements installation\n",
    "Run:\n",
    "```\n",
    "pip3 install -r requirements.txt\n",
    "```"
   ]
  },
  {
   "cell_type": "markdown",
   "metadata": {},
   "source": [
    "# Tâche 1 : Création d’un index inversé et moteur de recherche booléen et vectorie"
   ]
  },
  {
   "cell_type": "markdown",
   "metadata": {},
   "source": [
    "## 2.1 Traitements linguistiques"
   ]
  },
  {
   "cell_type": "markdown",
   "metadata": {},
   "source": [
    "### Tokenisation des collections"
   ]
  },
  {
   "cell_type": "markdown",
   "metadata": {},
   "source": [
    "#### CACM"
   ]
  },
  {
   "cell_type": "markdown",
   "metadata": {},
   "source": [
    "importing datasets"
   ]
  },
  {
   "cell_type": "code",
   "execution_count": 1,
   "metadata": {
    "scrolled": true
   },
   "outputs": [
    {
     "name": "stderr",
     "output_type": "stream",
     "text": [
      "[nltk_data] Downloading package punkt to\n",
      "[nltk_data]     /Users/victoraubin/nltk_data...\n",
      "[nltk_data]   Package punkt is already up-to-date!\n"
     ]
    }
   ],
   "source": [
    "import file_reading\n",
    "import tokenization"
   ]
  },
  {
   "cell_type": "markdown",
   "metadata": {},
   "source": [
    "CACM (quick import and tokenization)"
   ]
  },
  {
   "cell_type": "code",
   "execution_count": 2,
   "metadata": {},
   "outputs": [],
   "source": [
    "CACM_documents = file_reading.read_cacm()  # raw dataset\n",
    "CACM_tokens_NLTK = tokenization.tokenize_CACM(CACM_documents)  # tokenization with NLTK and stoplist\n",
    "CACM_tokens = tokenization.tokenize_no_nltk_CACM(CACM_documents)  # Manual tokenization (stoplist)"
   ]
  },
  {
   "cell_type": "markdown",
   "metadata": {},
   "source": [
    "#### CS276"
   ]
  },
  {
   "cell_type": "markdown",
   "metadata": {},
   "source": [
    "Storing tokenized dataset into a pickle file that's reused"
   ]
  },
  {
   "cell_type": "code",
   "execution_count": 3,
   "metadata": {},
   "outputs": [
    {
     "name": "stdout",
     "output_type": "stream",
     "text": [
      "getting CS276 docs pickle\n",
      "getting CS276 tokens pickle\n",
      "done\n"
     ]
    }
   ],
   "source": [
    "import pickle\n",
    "import os\n",
    "\n",
    "if os.path.exists(\"tokenized_data/CS276_docs.pickle\"):\n",
    "    print(\"getting CS276 docs pickle\")\n",
    "    CS276_docs = pickle.load(open(\"tokenized_data/CS276_docs.pickle\", 'rb'))\n",
    "else:\n",
    "    print(\"reading CS297\")\n",
    "    CS276_docs = file_reading.read_cs276()\n",
    "    print(\"storing CS297 docs in a pickle\")\n",
    "    pickle.dump(CS276_docs, open(\"tokenized_data/CS276_docs.pickle\", 'wb'))\n",
    "\n",
    "if os.path.exists(\"tokenized_data/CS276_tokens.pickle\"):\n",
    "    print(\"getting CS276 tokens pickle\")\n",
    "    CS276_tokens = pickle.load(open(\"tokenized_data/CS276_tokens.pickle\", 'rb'))\n",
    "else:\n",
    "    print(\"making CS276 tokens\")\n",
    "    CS276_tokens = tokenization.tokenize_CS276(CS276_docs)\n",
    "    print(\"storing CS276 in a pickle\")\n",
    "    pickle.dump(CS276_tokens, open(\"tokenized_data/CS276_tokens.pickle\", \"wb\"))\n",
    "print(\"done\")"
   ]
  },
  {
   "cell_type": "markdown",
   "metadata": {},
   "source": [
    "### Nombre de tokens"
   ]
  },
  {
   "cell_type": "code",
   "execution_count": 4,
   "metadata": {},
   "outputs": [
    {
     "name": "stdout",
     "output_type": "stream",
     "text": [
      "Nombre de tokens pour CACM (sans NLTK):\n",
      "73126\n",
      "Nombre de tokens pour CACM (avec NLTK):\n",
      "92997\n",
      "Nombre de tokens pour CS276:\n",
      "2704051\n"
     ]
    }
   ],
   "source": [
    "print(\"Nombre de tokens pour CACM (sans NLTK):\")\n",
    "T1 = sum([len(L) for L in CACM_tokens])\n",
    "print(T1)\n",
    "\n",
    "print(\"Nombre de tokens pour CACM (avec NLTK):\")\n",
    "T1 = sum([len(L) for L in CACM_tokens_NLTK])\n",
    "print(T1)\n",
    "\n",
    "print(\"Nombre de tokens pour CS276:\")\n",
    "T1 = sum([len(L) for L in CS276_tokens])\n",
    "print(T1)"
   ]
  },
  {
   "cell_type": "markdown",
   "metadata": {},
   "source": [
    "### Taille du vocabulaire"
   ]
  },
  {
   "cell_type": "code",
   "execution_count": 5,
   "metadata": {
    "scrolled": false
   },
   "outputs": [
    {
     "name": "stdout",
     "output_type": "stream",
     "text": [
      "Vocabulaire pour CACM: \n",
      "9496\n",
      "Vocabulaire pour CACM (avec NLTK): \n",
      "11157\n",
      "Vocabulaire pour CS276_tokens: \n",
      "346650\n"
     ]
    }
   ],
   "source": [
    "print(\"Vocabulaire pour CACM: \")\n",
    "M1 = len(CACM_tokens)\n",
    "print(M1)\n",
    "# print(CACM_tokens.keys())\n",
    "\n",
    "print(\"Vocabulaire pour CACM (avec NLTK): \")\n",
    "M1 = len(CACM_tokens_NLTK)\n",
    "print(M1)\n",
    "# print(CACM_tokens.keys())\n",
    "\n",
    "print(\"Vocabulaire pour CS276_tokens: \")\n",
    "M1 = len(CS276_tokens)\n",
    "print(M1)\n",
    "# print(CS276_tokens.keys())"
   ]
  },
  {
   "cell_type": "markdown",
   "metadata": {},
   "source": [
    "### Loi Heap et estimation pour 1M vocabulaire"
   ]
  },
  {
   "cell_type": "markdown",
   "metadata": {},
   "source": [
    "CACM"
   ]
  },
  {
   "cell_type": "code",
   "execution_count": 6,
   "metadata": {},
   "outputs": [
    {
     "name": "stdout",
     "output_type": "stream",
     "text": [
      "heap low for collection CACM without NLTK\n",
      "K = 0.16412801642665256, b = 0.9790887476936934\n",
      "Pour 1 million de tokens, vocabulaire :\n",
      "122946\n"
     ]
    }
   ],
   "source": [
    "d_half = tokenization.tokenize_no_nltk_CACM(CACM_documents[:len(CACM_documents)//2])\n",
    "tokenization.print_heap_law(CACM_tokens, d_half, \"CACM without NLTK\")"
   ]
  },
  {
   "cell_type": "code",
   "execution_count": 7,
   "metadata": {},
   "outputs": [
    {
     "name": "stdout",
     "output_type": "stream",
     "text": [
      "heap low for collection CACM with NLTK\n",
      "K = 0.19899997076491205, b = 0.9557661482715758\n",
      "Pour 1 million de tokens, vocabulaire :\n",
      "108006\n"
     ]
    }
   ],
   "source": [
    "d_half = tokenization.tokenize_CACM(CACM_documents[:len(CACM_documents)//2])\n",
    "tokenization.print_heap_law(CACM_tokens_NLTK, d_half, \"CACM with NLTK\")"
   ]
  },
  {
   "cell_type": "markdown",
   "metadata": {},
   "source": [
    "CS276"
   ]
  },
  {
   "cell_type": "code",
   "execution_count": 8,
   "metadata": {},
   "outputs": [
    {
     "name": "stdout",
     "output_type": "stream",
     "text": [
      "heap low for collection CS276\n",
      "K = 0.11194888485284703, b = 1.0091505625243606\n",
      "Pour 1 million de tokens, vocabulaire :\n",
      "127034\n"
     ]
    }
   ],
   "source": [
    "CS276_tokens_heap = CS276_tokens.copy()\n",
    "ids_to_delete = list(range(len(CS276_docs)//2))\n",
    "\n",
    "for document_ids in CS276_tokens_heap.values():\n",
    "    filter(lambda d_id: d_id not in ids_to_delete, document_ids)\n",
    "\n",
    "tokenization.print_heap_law(CS276_tokens, d_half, \"CS276\")"
   ]
  },
  {
   "cell_type": "markdown",
   "metadata": {},
   "source": [
    "### Graphes frequence / rang et log(frequence) / log(rang)"
   ]
  },
  {
   "cell_type": "code",
   "execution_count": 9,
   "metadata": {},
   "outputs": [],
   "source": [
    "freq_CACM = tokenization.word_frequency(CACM_tokens)\n",
    "freq_CACM_NLTK = tokenization.word_frequency(CACM_tokens_NLTK)\n",
    "freq_CS276 = tokenization.word_frequency(CS276_tokens)"
   ]
  },
  {
   "cell_type": "markdown",
   "metadata": {},
   "source": [
    "#### CACM without NLTK"
   ]
  },
  {
   "cell_type": "code",
   "execution_count": 10,
   "metadata": {},
   "outputs": [
    {
     "data": {
      "text/plain": [
       "<Figure size 640x480 with 1 Axes>"
      ]
     },
     "metadata": {},
     "output_type": "display_data"
    }
   ],
   "source": [
    "import matplotlib.pyplot as plt\n",
    "list_word = [tokenization.Token_sorter(word, freq_CACM[word]) for word in freq_CACM.keys()]\n",
    "list_word.sort()\n",
    "X = range(1, len(list_word) + 1)\n",
    "Y = [word.f for word in list_word]\n",
    "plt.title('pour CACM sans NLTK')\n",
    "plt.ylabel('frequence')\n",
    "plt.xlabel('rang')\n",
    "plt.plot(X, Y,)\n",
    "plt.show()"
   ]
  },
  {
   "cell_type": "code",
   "execution_count": 11,
   "metadata": {
    "scrolled": true
   },
   "outputs": [
    {
     "data": {
      "image/png": "[encoded data removed]",
      "text/plain": [
       "<Figure size 432x288 with 1 Axes>"
      ]
     },
     "metadata": {
      "needs_background": "light"
     },
     "output_type": "display_data"
    }
   ],
   "source": [
    "from numpy import log, array\n",
    "X2= log(array(X))\n",
    "Y2 = log(array(Y))\n",
    "plt.title('pour CACM sans NLTK')\n",
    "plt.ylabel('log(frequence)')\n",
    "plt.xlabel('log(rang)')\n",
    "plt.plot(X2, Y2)\n",
    "plt.show()"
   ]
  },
  {
   "cell_type": "markdown",
   "metadata": {},
   "source": [
    "#### CACM with NLTK"
   ]
  },
  {
   "cell_type": "code",
   "execution_count": 12,
   "metadata": {},
   "outputs": [
    {
     "data": {
      "image/png": "[encoded data removed]",
      "text/plain": [
       "<Figure size 432x288 with 1 Axes>"
      ]
     },
     "metadata": {
      "needs_background": "light"
     },
     "output_type": "display_data"
    }
   ],
   "source": [
    "list_word = [tokenization.Token_sorter(word, freq_CACM_NLTK[word]) for word in freq_CACM_NLTK.keys()]\n",
    "list_word.sort()\n",
    "X = range(1, len(list_word) + 1)\n",
    "Y = [word.f for word in list_word]\n",
    "plt.title('pour CACM avec NLTK')\n",
    "plt.ylabel('frequence')\n",
    "plt.xlabel('rang')\n",
    "plt.plot(X, Y)\n",
    "plt.show()"
   ]
  },
  {
   "cell_type": "code",
   "execution_count": 13,
   "metadata": {},
   "outputs": [
    {
     "data": {
      "image/png": "[encoded data removed]",
      "text/plain": [
       "<Figure size 432x288 with 1 Axes>"
      ]
     },
     "metadata": {
      "needs_background": "light"
     },
     "output_type": "display_data"
    }
   ],
   "source": [
    "from numpy import log, array\n",
    "X2= log(array(X))\n",
    "Y2 = log(array(Y))\n",
    "plt.title('pour CACM avec NLTK')\n",
    "plt.ylabel('log(frequence)')\n",
    "plt.xlabel('log(rang)')\n",
    "plt.plot(X2, Y2)\n",
    "plt.show()"
   ]
  },
  {
   "cell_type": "markdown",
   "metadata": {},
   "source": [
    "#### CS276"
   ]
  },
  {
   "cell_type": "code",
   "execution_count": 14,
   "metadata": {},
   "outputs": [
    {
     "data": {
      "image/png": "[encoded data removed]",
      "text/plain": [
       "<Figure size 432x288 with 1 Axes>"
      ]
     },
     "metadata": {
      "needs_background": "light"
     },
     "output_type": "display_data"
    }
   ],
   "source": [
    "list_word = [tokenization.Token_sorter(word, freq_CS276[word]) for word in freq_CS276.keys()]\n",
    "list_word.sort()\n",
    "X = range(1, len(list_word) + 1)\n",
    "Y = [word.f for word in list_word]\n",
    "plt.plot(X, Y)\n",
    "plt.title('pour CS276')\n",
    "plt.ylabel('frequence')\n",
    "plt.xlabel('rang')\n",
    "plt.show()"
   ]
  },
  {
   "cell_type": "code",
   "execution_count": 15,
   "metadata": {},
   "outputs": [
    {
     "data": {
      "image/png": "[encoded data removed]",
      "text/plain": [
       "<Figure size 432x288 with 1 Axes>"
      ]
     },
     "metadata": {
      "needs_background": "light"
     },
     "output_type": "display_data"
    }
   ],
   "source": [
    "from numpy import log, array\n",
    "X2= log(array(X))\n",
    "Y2 = log(array(Y))\n",
    "plt.title('pour CS276')\n",
    "plt.ylabel('log(frequence)')\n",
    "plt.xlabel('log(rang)')\n",
    "plt.plot(X2, Y2)\n",
    "plt.show()"
   ]
  },
  {
   "cell_type": "markdown",
   "metadata": {},
   "source": [
    "### Index inversé"
   ]
  },
  {
   "cell_type": "markdown",
   "metadata": {},
   "source": [
    "On crée des indexes inversés pour les corpus CACM et CS276 dans des fichiers `invesed_index/cacm/cacm.output`\n",
    "\n",
    "Des fichiers intermédiaires sont générés pour alleger la mémoire `invesed_index/cacm/cacm.output_x`\n",
    "\n",
    "Chaque ligne contient l'id du token en premiere position, puis la liste des id des documents qui contiennent ce token"
   ]
  },
  {
   "cell_type": "code",
   "execution_count": 16,
   "metadata": {},
   "outputs": [],
   "source": [
    "import inversed_index\n",
    "from time import time"
   ]
  },
  {
   "cell_type": "markdown",
   "metadata": {},
   "source": [
    "#### CACM without NKTK (better performances)"
   ]
  },
  {
   "cell_type": "code",
   "execution_count": 83,
   "metadata": {},
   "outputs": [
    {
     "name": "stdout",
     "output_type": "stream",
     "text": [
      "l'indexation de CACM a pris 3.372269868850708 secondes\n"
     ]
    }
   ],
   "source": [
    "cacm_dict_term = {}\n",
    "i = 0\n",
    "for token in CACM_tokens:\n",
    "    if token not in cacm_dict_term:\n",
    "        cacm_dict_term[token] = i\n",
    "        i += 1\n",
    "\n",
    "start = time()\n",
    "inversed_index.index_inverse_global(CACM_documents, 1000,\n",
    "                                    \"inversed_index/cacm/cacm.output\",\n",
    "                                    cacm_dict_term,\n",
    "                                    type=\"CACM\")\n",
    "print(\"l'indexation de CACM a pris\", time() - start, \"secondes\")"
   ]
  },
  {
   "cell_type": "markdown",
   "metadata": {},
   "source": [
    "#### CS276 (supprimez les fichiers inversed_index/cs276/cs276.output pour les recalculer)"
   ]
  },
  {
   "cell_type": "code",
   "execution_count": 18,
   "metadata": {},
   "outputs": [],
   "source": [
    "cs276_dict_term = {}\n",
    "i = 0\n",
    "for token in CS276_tokens:\n",
    "    if token not in cs276_dict_term:\n",
    "        cs276_dict_term[token] = i\n",
    "        i += 1\n",
    "\n",
    "if not os.path.exists(\"inversed_index/cs276/cs276.output\"):\n",
    "    start = time()\n",
    "    inversed_index.index_inverse_global(CS276_docs, 1000,\n",
    "                                        \"inversed_index/cs276/cs276.output\",\n",
    "                                        cs276_dict_term,\n",
    "                                        type=\"CS276\")\n",
    "    print(\"l'indexation de CS276 a pris\", time() - start, \"secondes\")"
   ]
  },
  {
   "cell_type": "markdown",
   "metadata": {},
   "source": [
    "# Index inversé fréquentiel"
   ]
  },
  {
   "cell_type": "markdown",
   "metadata": {},
   "source": [
    "On crée des indexes inversés fréquentiels pour les corpus CACM et CS276 dans des fichiers frequential_index/cacm/cacm.output\n",
    "\n",
    "Des fichiers intermédiaires sont générés pour alleger la mémoire frequential_index/cacm/cacm.output_x\n",
    "\n",
    "Chaque ligne contient l'id du token en premiere position, puis la liste des couples document_id/frequence"
   ]
  },
  {
   "cell_type": "code",
   "execution_count": 19,
   "metadata": {},
   "outputs": [],
   "source": [
    "import frequency_index\n",
    "from importlib import reload\n",
    "frequency_index = reload(frequency_index)"
   ]
  },
  {
   "cell_type": "markdown",
   "metadata": {},
   "source": [
    "#### CACM without NKTK (better performances)"
   ]
  },
  {
   "cell_type": "code",
   "execution_count": 20,
   "metadata": {},
   "outputs": [
    {
     "name": "stdout",
     "output_type": "stream",
     "text": [
      "Processing document 3000/3204          \r"
     ]
    }
   ],
   "source": [
    "start = time()\n",
    "frequency_index.index_inverse_global_with_frequency(CACM_documents, 1000,\n",
    "                                                      \"frequential_index/cacm/cacm.output\",\n",
    "                                                      cacm_dict_term,\n",
    "                                                      type=\"CACM\")\n",
    "print(\"l'indexation fréquentielle de CACM a pris\", time() - start, \"secondes\")"
   ]
  },
  {
   "cell_type": "markdown",
   "metadata": {},
   "source": [
    "#### CS276"
   ]
  },
  {
   "cell_type": "code",
   "execution_count": 21,
   "metadata": {},
   "outputs": [],
   "source": [
    "if not os.path.exists(\"frequential_index/cs276/cs276.output\"):\n",
    "    start = time()\n",
    "    frequency_index.index_inverse_global_with_frequency(CS276_docs, 1000,\n",
    "                                                      \"frequential_index/cs276/cs276.output\",\n",
    "                                                      cs276_dict_term,\n",
    "                                                      type=\"CS276\")\n",
    "    print(\"l'indexation fréquentielle de CS276 a pris\", time() - start, \"secondes\")"
   ]
  },
  {
   "cell_type": "markdown",
   "metadata": {},
   "source": [
    "## Modele booleen"
   ]
  },
  {
   "cell_type": "markdown",
   "metadata": {},
   "source": [
    "La recherche booléenne prend une entrée booléenne du type \"token&token|(!token&token)\". L'expression booleenne est transformée en expression polonaise pour prendre en compte efficacement les parenthèses. Le programme renvoie un set des ids des documents qui contiennent l'expression et le temps de utilisé pour calculer. "
   ]
  },
  {
   "cell_type": "code",
   "execution_count": 22,
   "metadata": {},
   "outputs": [],
   "source": [
    "import boolean_model"
   ]
  },
  {
   "cell_type": "markdown",
   "metadata": {},
   "source": [
    "#### CACM"
   ]
  },
  {
   "cell_type": "code",
   "execution_count": 23,
   "metadata": {},
   "outputs": [
    {
     "name": "stdout",
     "output_type": "stream",
     "text": [
      "\n",
      "query: Algebraic&Language|(Preliminary&printer)\n",
      "process time: 0.014754056930541992\n",
      "result: {'1543', '1253', '1589', '1824', '1471', '2645', '99', '1', '1223', '2547', '1453', '2958', '3077', '93', '1216', '54'}\n",
      "\n",
      "query: Algebraic&!Language\n",
      "process time: 0.005855083465576172\n",
      "result: set()\n",
      "\n",
      "query: The&Secant&Method&for&Simultaneous&Nonlinear&Equations\n",
      "process time: 0.01647806167602539\n",
      "result: {'39'}\n",
      "\n",
      "query: Binary&Representation|(Algebraic&Language)\n",
      "process time: 0.010869026184082031\n",
      "result: {'2801', '2525', '3041', '40', '3115', '2702', '2446', '2787', '2987'}\n"
     ]
    }
   ],
   "source": [
    "\n",
    "boolean_queries = [\n",
    "    \"Algebraic&Language|(Preliminary&printer)\",\n",
    "    \"Algebraic&!Language\",\n",
    "    \"The&Secant&Method&for&Simultaneous&Nonlinear&Equations\",\n",
    "    \"Binary&Representation|(Algebraic&Language)\"\n",
    "]\n",
    "for query in boolean_queries:\n",
    "    print()\n",
    "    debut = time()\n",
    "    result = boolean_model.boolean_model(query, CACM_documents, cacm_dict_term, type=\"CACM\")\n",
    "    print(\"query:\", query)\n",
    "    print(\"request time:\", time() - debut)\n",
    "    print(\"result:\", result)"
   ]
  },
  {
   "cell_type": "markdown",
   "metadata": {},
   "source": [
    "#### CS276"
   ]
  },
  {
   "cell_type": "code",
   "execution_count": 25,
   "metadata": {
    "scrolled": true
   },
   "outputs": [
    {
     "name": "stdout",
     "output_type": "stream",
     "text": [
      "\n",
      "query: contact&us&about&us&food&allergies&stanford&medicine\n",
      "process time: 1.5822598934173584\n",
      "result: {'85984', '79807', '29306', '39841', '45696', '30431'}\n",
      "\n",
      "query: contact&us&about&us&!food\n",
      "process time: 0.29505085945129395\n",
      "result: set()\n",
      "\n",
      "query: (climate&change)|(agricultural&adaptation)&!politic&!university\n",
      "process time: 2.6862289905548096\n",
      "result: {'44594', '73700', '46788', '34135', '61951', '95855', '39438', '63749', '41178', '82377', '62699', '70671', '88403', '81502', '86976', '68538', '85830', '761', '42935', '18244', '36274', '46396', '70516', '82628', '60419', '94593', '34152', '16028', '63678', '47028', '1787', '6759', '82305', '11452', '86927', '41908', '13535', '65809', '60455', '69292', '59688', '60126', '60438', '11821', '67937', '43385', '10654', '37209', '85547', '61181', '70462', '20062', '64616', '55914', '26099', '68247', '60982', '61433', '75837', '80651', '87750', '22113', '64881', '44741', '60570', '18466', '63494', '62609', '87376', '37741', '81404', '64711', '63948', '67623', '95150', '85220', '47031', '66946', '24522', '48810', '71449', '47041', '39032', '81561', '39685', '34483', '63673', '71054', '43335', '77369', '60636', '4754', '65212', '68472', '17881', '7255', '83411', '49680', '34921', '98314', '84276', '87099', '30698', '68883', '87595', '86365', '65628', '12285', '82874', '14684', '81988', '38087', '75776', '3632', '88917', '516', '95017', '11180', '10599', '82328', '65623', '62200', '95850', '60016', '86620', '88821', '95677', '79133', '2224', '45982', '76867', '66722', '81743', '79501', '61884', '1603', '66848', '65007', '61691', '5796', '60932', '68366', '74348', '76715', '86358', '48912', '46558', '79767', '12631', '12234', '41283', '72030', '42484', '10765', '73955', '40863', '89774', '42737', '67683', '59986', '11187', '83892', '59254', '64495', '13202', '81396', '25570', '66875', '61469', '67968', '7416', '48037', '44597', '32821', '66713', '79574', '61131', '65099', '66389', '71935', '48700', '71126', '65700', '62245', '59786', '30771', '24108', '83787', '84833', '68121', '7061', '60340', '59788', '38487', '45725', '39548', '40645', '24506', '83817', '40840', '86761', '75043', '11699', '66694', '63033', '40166', '41421', '60486', '88270', '39314', '87743', '60846', '39221', '48306', '86571', '62870', '80546', '31115', '21235', '81083', '41302', '79422', '79848', '65901', '3369', '67911', '42159', '61579', '64339', '45535', '90117', '45170', '13810', '67921', '11463', '30177', '67028', '47567', '72333', '11211', '73546', '47794', '47703', '59864', '62959', '45316', '85110', '85963', '82902', '9260', '44259', '32797', '61509', '77967', '85039', '88119', '39891', '67632', '88062', '75381', '64422', '59924', '10473', '85249', '69243', '45146', '63873', '76378', '36092', '23984', '84848', '82649', '47953', '14661', '60907', '47914', '182', '45484', '66765', '11133', '1930', '67257', '80159', '45324', '80231', '87077', '84221', '39785', '84051', '16910', '81193', '96592', '75198', '85819', '68490', '90285', '85922', '86459', '67351', '11773', '21578', '87543', '66261', '64330', '76120', '71029', '14583', '66435', '78896', '67607', '44354', '9861', '62323', '48804', '46069', '46825', '70239', '85427', '40779', '27583', '39129', '38645', '87600', '77332', '24855', '68447', '13479', '6325', '70526', '5639', '8618', '62817', '59371', '60806', '28287', '79499', '59754', '74730', '78097', '78406', '46284', '79731', '65878', '3830', '14300', '85908', '81787', '78504', '42811', '40839', '80272', '12657', '67851', '76868', '72127', '39312', '83947', '39987', '37695', '93080', '66865', '96865', '81560', '82234', '60692', '83480', '86508', '62709', '76891', '71563', '14972', '41340', '68567', '39934', '67186', '8721', '67096', '94917', '68424', '80441', '69490', '78044', '24383', '62805', '66837', '37061', '46674', '9440', '29219', '16185', '67456', '101', '25707', '81791', '46947', '75253', '42478', '12607', '66793', '86328', '62138', '70259', '15053', '68994', '86829', '21010', '79676', '39778', '66709', '36319', '62089', '83313', '63285', '60317', '16400', '59245', '72546', '94916', '47940', '4757', '45432', '29854', '59774', '60966', '63811', '85678', '78973', '84949', '43850', '81773', '73222', '84996', '41811', '64608', '59620', '67262', '39549', '80953', '15663', '59158', '63647', '66636', '80813', '80370', '8075', '63896', '94188', '68493', '82461', '65242', '83267', '60673', '88837', '83960', '64978', '69852', '42959', '18642', '66100', '45285', '13037', '70095', '12573', '64133', '90506', '85361', '83233', '45520', '82792', '70841', '82304', '84306', '86856', '88294', '16047', '12982', '5702', '10600', '61634', '86100', '62796', '85541', '61519', '11385', '28863', '38888', '66222', '85741', '88399', '62001', '5439', '74039', '66453', '85188', '85075', '85162', '34102', '70631', '38161', '41628', '12329', '58597', '88494', '79815', '85003', '40172', '46652', '89554', '65175', '17640', '37733', '72990', '67951', '48990', '16903', '40374', '87546', '74465', '80327', '88738', '46581', '83182', '31934', '69808', '98803', '79820', '85453', '5764', '48539', '83369', '60875', '64677', '87671', '73221', '83470', '84956', '66698', '82127', '60511', '77857', '82192', '66356', '87362', '61487', '31158', '80745', '80761', '83670', '59477', '82609', '64923', '82994', '22376', '68045', '68085', '69646', '39066', '95109', '68570', '70457', '93263', '17828', '73602', '87962', '35671', '62273', '74038', '65958', '65402', '2052', '14336', '41107', '74846', '1743', '62811', '44089', '12333', '62020', '937', '74143', '67670', '36747', '59405', '63191', '41654', '72431', '82813', '63108', '94020', '34230', '68885', '33908', '64566', '71400', '9858', '86817', '82793', '66866', '54298', '80302', '85372', '4907', '61182', '59473', '42779', '68852', '32476', '84403', '34882', '36431', '62922', '91991', '33749', '85264', '78470', '83822', '68616', '74906', '79314', '67261', '18271', '68526', '39124', '90374', '64659', '63400', '58409', '13088', '61039', '38831', '428', '5400', '43993', '81546', '62754', '82002', '65525', '8642', '29745', '1556', '77442', '69932', '69672', '29749', '67444', '60418', '4964', '38619', '71895', '83624', '82037', '83376', '48565', '81395', '86000', '60247', '67305', '5489', '68197', '8900', '83654', '65794', '87482', '9860', '65759', '7068', '88037', '81025', '79450', '60863', '60019', '78299', '33923', '83568', '13163', '96905', '17297', '41869', '65942', '5716', '80538', '68460', '10271', '1387', '46297', '60682', '45294', '59901', '33349', '60211', '79361', '41382', '91372', '12593', '81979', '85701', '34718', '31449', '76661', '85405', '42075', '85531', '86851', '79685', '79326', '13504', '79299', '85269', '78529', '78163', '20101', '59242', '66766', '85588', '26828', '10370', '73416', '80420', '62571', '8904', '65632', '83105', '36725', '79782', '34156', '41123', '79260', '40309', '88777', '17923', '74280', '2343', '82859', '69668', '54613', '61271', '65163', '83645', '14213', '81066', '94088', '43183', '46637', '22119', '46961', '55139', '30976', '60573', '42400', '23567', '67650', '71335', '46278', '68909', '41483', '62677', '83214', '88110', '87529', '65546', '68221', '29', '86706', '84113', '39386', '36857', '89309', '18668', '31768', '540', '41330', '18954', '73935', '31483', '38021', '66827', '87650', '75668', '12369', '32228', '60249', '66336', '44393', '78063', '86735', '94331', '59653', '44715', '85813', '65640', '71609', '84259', '36834', '61910', '83481', '38104', '3354', '79026', '13717', '82250', '81611', '41958', '93556', '71327', '83806', '69367', '78815', '62637', '68409', '75872', '94432', '13617', '65819', '67859', '85032', '79679', '70047', '62632', '39974', '80246', '63365', '36175', '62706', '8784', '82852', '87245', '63176', '67754', '43214', '64380', '61491', '60551', '59186', '65042', '69940', '65121', '86919', '72943', '80102', '77860', '72975', '46993', '52719', '62014', '71047', '32891', '45808', '62136', '84346', '78348', '88498', '61104', '40598', '61666', '47684', '30222', '45966', '46775', '64362', '17040', '10721', '62591', '66468', '83337', '85479', '77067', '62855', '7568', '87619', '76917', '46334', '44343', '88610', '61144', '86092', '41085', '82787', '88314', '16037', '40857', '65077', '47643', '65219', '3157', '65880', '63585', '82279', '80835', '46195', '78523', '66768', '83564', '59093', '46703', '65419', '68568', '18552', '60409', '81968', '68076', '79671', '87024', '45416', '61557', '65371', '62549', '18411', '66603', '68880', '59108', '79652', '68338', '20320', '79224', '27827', '60100', '85189', '6445', '92516', '20404', '84442', '80255', '86888', '83797', '68912', '68971', '14983', '39650', '5491', '10818', '19699', '87382', '64556', '87244', '54147', '81649', '15312', '66770', '81842', '88951', '44102', '80461', '82602', '74564', '60440', '39864', '64115', '67408', '45026', '15575', '88828', '68223', '63667', '64017', '59635', '77591', '66366', '66984', '59183', '68819', '91704', '65663', '60055', '70774', '92512', '55249', '96416', '18018', '19578', '47237', '73712', '71272', '77225', '63540', '32792', '11123', '9007', '79217', '81229', '19365', '37720', '2021', '12742', '86635', '3455', '41905', '46121', '64558', '39908', '67549', '66286', '8022', '77667', '96004', '75695', '16407', '80890', '84782', '84356', '86199', '67052', '66314', '2452', '38062', '79235', '83875', '76703', '98012', '61057', '48094', '9770', '38437', '62067', '13657', '77502', '9970', '46744', '83863', '31285', '61413', '47644', '32338', '65707', '16169', '36627', '47939', '88454', '26597', '37023', '71825', '18461', '86013', '79357', '34538', '39734', '77441', '43232', '59776', '64750', '79757', '81862', '9611', '3964', '62628', '5973', '66922', '77739', '93485', '33055', '68268', '40516', '5601', '46394', '59534', '91014', '64088', '40773', '12208', '67073', '60858', '62070', '81767', '88772', '59226', '12347', '86069', '68102', '82948', '63565', '79571', '95659', '71430', '79063', '9241', '66980', '76487', '14987', '82005', '59440', '73694', '73376', '8608', '88780', '42407', '67183', '66488', '91247', '61106', '88394', '65734', '84103', '42499', '61550', '43277', '2679', '16276', '30331', '65282', '59232', '82951', '63662', '62059', '74111', '24594', '95608', '24721', '82024', '64047'}\n"
     ]
    }
   ],
   "source": [
    "from time import time\n",
    "\n",
    "boolean_queries = [\n",
    "    \"contact&us&about&us&food&allergies&stanford&medicine\",\n",
    "    \"contact&us&about&us&!food\",\n",
    "    \"(climate&change)|(agricultural&adaptation)&!politic&!university\"\n",
    "]\n",
    "for query in boolean_queries:\n",
    "    print()\n",
    "    debut = time()\n",
    "    result = boolean_model.boolean_model(query, CS276_docs, cs276_dict_term, type=\"CS276\")\n",
    "    print(\"query:\", query)\n",
    "    print(\"request time:\", time() - debut)\n",
    "    print(\"result:\", result)"
   ]
  },
  {
   "cell_type": "markdown",
   "metadata": {},
   "source": [
    "## Modele vectoriel"
   ]
  },
  {
   "cell_type": "code",
   "execution_count": 59,
   "metadata": {},
   "outputs": [],
   "source": [
    "import vectorial_model\n",
    "from importlib import reload\n",
    "vectorial_model = reload(vectorial_model)"
   ]
  },
  {
   "cell_type": "markdown",
   "metadata": {},
   "source": [
    "##### CACM"
   ]
  },
  {
   "cell_type": "code",
   "execution_count": 79,
   "metadata": {},
   "outputs": [
    {
     "name": "stdout",
     "output_type": "stream",
     "text": [
      "request time 0.13416194915771484\n",
      "[2047, 2033, 2030, 2024, 2020]\n"
     ]
    }
   ],
   "source": [
    "# ponderation tf-idf\n",
    "start = time()\n",
    "found_documents = vectorial_model.modele_vectoriel(\"paper\",\n",
    "                                                   CACM_documents,\n",
    "                                                   cacm_dict_term,\n",
    "                                                   ponderation=\"tfidf\",\n",
    "                                                   type=\"CACM\")\n",
    "print(\"request time\", time() - start)\n",
    "print(found_documents[:5])"
   ]
  },
  {
   "cell_type": "code",
   "execution_count": 80,
   "metadata": {},
   "outputs": [
    {
     "name": "stdout",
     "output_type": "stream",
     "text": [
      "request time 13.804132223129272\n",
      "[1453, 3147, 3034, 497, 2367]\n"
     ]
    }
   ],
   "source": [
    "# ponderation tf-idf normalisé\n",
    "start = time()\n",
    "found_documents = vectorial_model.modele_vectoriel(\"This paper describes an alternate method for summing a set of floating-point numbers.  Comparison of the error bound for this method with that of the standard summation method shows that it is considerably less sensitive to propagation of round-off error.\",\n",
    "                                                   CACM_documents,\n",
    "                                                   cacm_dict_term,\n",
    "                                                   ponderation=\"tfidf_norm\",\n",
    "                                                   type=\"CACM\")\n",
    "print(\"request time\", time() - start)\n",
    "print(found_documents[:5])"
   ]
  },
  {
   "cell_type": "code",
   "execution_count": 81,
   "metadata": {},
   "outputs": [
    {
     "name": "stdout",
     "output_type": "stream",
     "text": [
      "request time 9.516342639923096\n",
      "[2024, 2020, 1978, 1945, 1937]\n"
     ]
    }
   ],
   "source": [
    "# ponderation frequence normalisé\n",
    "start = time()\n",
    "found_documents = vectorial_model.modele_vectoriel(\"This paper describes an alternate method for summing a set of floating-point numbers.  Comparison of the error bound for this method with that of the standard summation method shows that it is considerably less sensitive to propagation of round-off error.\",\n",
    "                                                   CACM_documents,\n",
    "                                                   cacm_dict_term,\n",
    "                                                   ponderation=\"norm_freq\",\n",
    "                                                   type=\"CACM\")\n",
    "print(\"request time\", time() - start)\n",
    "print(found_documents[:5])"
   ]
  },
  {
   "cell_type": "markdown",
   "metadata": {},
   "source": [
    "#### CS276"
   ]
  },
  {
   "cell_type": "code",
   "execution_count": 84,
   "metadata": {},
   "outputs": [
    {
     "name": "stdout",
     "output_type": "stream",
     "text": [
      "request time 2.0380332469940186\n",
      "[4769, 73673, 3922, 36664, 52983]\n"
     ]
    }
   ],
   "source": [
    "start = time()\n",
    "found_documents = vectorial_model.modele_vectoriel(\"hello hello\",\n",
    "                                                   CS276_docs,\n",
    "                                                   cs276_dict_term,\n",
    "                                                   ponderation=\"tfidf\",\n",
    "                                                   type=\"CS276\")\n",
    "print(\"request time\", time() - start)\n",
    "print(found_documents[:5])"
   ]
  },
  {
   "cell_type": "markdown",
   "metadata": {},
   "source": [
    "## Evaluation"
   ]
  },
  {
   "cell_type": "markdown",
   "metadata": {},
   "source": [
    "### Performances"
   ]
  },
  {
   "cell_type": "markdown",
   "metadata": {},
   "source": [
    "Temps de calcul donné dans les cellules correspondantes"
   ]
  },
  {
   "cell_type": "markdown",
   "metadata": {},
   "source": [
    "index inversé CACM: 463 KB"
   ]
  },
  {
   "cell_type": "markdown",
   "metadata": {},
   "source": [
    "index inversé CS276: 81,3 MB"
   ]
  },
  {
   "cell_type": "markdown",
   "metadata": {},
   "source": [
    "fréquence index CACM: 659 KB"
   ]
  },
  {
   "cell_type": "markdown",
   "metadata": {},
   "source": [
    "fréquence index CS276: 93,5 MB"
   ]
  },
  {
   "cell_type": "code",
   "execution_count": 96,
   "metadata": {},
   "outputs": [
    {
     "name": "stdout",
     "output_type": "stream",
     "text": [
      "request time 0.05041313171386719\n",
      "[2047, 2544, 1435, 2353, 1811, 1806, 1260, 2266, 1212, 1722, 2742, 2229, 1197, 1159, 1586, 3025, 1873, 3182, 1999, 2490, 2470, 2981, 2454, 2943, 2408, 1888, 1369, 319, 313, 286, 1805, 748, 2210, 2194, 636, 1643, 94, 1622, 2105, 1593, 894, 380, 1692, 111, 1111, 1601, 3056, 1518, 2522, 2519, 2504, 1458, 942, 1960, 2979, 412, 1928, 2438, 1410, 2931, 2922, 1385, 2911, 2396, 2895, 2383, 2379, 1854, 825, 2865, 2342, 1828, 2851, 2848, 1308, 2327, 278, 243, 2795, 224, 2777, 1747, 2255, 2740, 1199, 1198, 1706, 1698, 2717, 1145, 3184, 2672, 618, 1098, 2629, 3140, 3127, 3120, 2581, 2580, 2060, 3081, 1541, 3072, 3043, 2378, 2376, 1846, 2320, 1749, 1748, 1135, 3141, 3128, 3039, 2920, 2912, 2371, 1272, 1753, 2228, 2150, 2080, 3078, 1587, 3073, 2307, 20]\n"
     ]
    }
   ],
   "source": [
    "start = time()\n",
    "found_documents = vectorial_model.modele_vectoriel(\"Accelerating Convergence of Iterative Processes\",\n",
    "                                                   CACM_documents,\n",
    "                                                   cacm_dict_term,\n",
    "                                                   ponderation=\"tfidf\",\n",
    "                                                   type=\"CACM\")\n",
    "print(\"request time\", time() - start)\n",
    "print(found_documents)"
   ]
  },
  {
   "cell_type": "code",
   "execution_count": 88,
   "metadata": {},
   "outputs": [
    {
     "data": {
      "text/plain": [
       "['Digital Computer Determination of Alpha Source Activity',\n",
       " 'A technique is described for determining the activity and homogeneity of an alpha source.   It is believed that the technique, using a digital computer, has many uses and applications in the field  of nuclear physics. The technique involves computer manipulation of the digital image of the nuclear  source.  Experimental details are given.',\n",
       " '']"
      ]
     },
     "execution_count": 88,
     "metadata": {},
     "output_type": "execute_result"
    }
   ],
   "source": [
    "CACM_documents[1143]"
   ]
  },
  {
   "cell_type": "code",
   "execution_count": null,
   "metadata": {},
   "outputs": [],
   "source": []
  }
 ],
 "metadata": {
  "kernelspec": {
   "display_name": "Python 3",
   "language": "python",
   "name": "python3"
  },
  "language_info": {
   "codemirror_mode": {
    "name": "ipython",
    "version": 3
   },
   "file_extension": ".py",
   "mimetype": "text/x-python",
   "name": "python",
   "nbconvert_exporter": "python",
   "pygments_lexer": "ipython3",
   "version": "3.7.1"
  }
 },
 "nbformat": 4,
 "nbformat_minor": 2
}
