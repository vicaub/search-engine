{
 "cells": [
  {
   "cell_type": "markdown",
   "metadata": {},
   "source": [
    "# Projet Search-Engine - Fondement de la Recherche d'Information-WEB"
   ]
  },
  {
   "cell_type": "markdown",
   "metadata": {},
   "source": [
    "## Requirements installation\n",
    "Run:\n",
    "```\n",
    "pip3 install -r requirements.txt\n",
    "```"
   ]
  },
  {
   "cell_type": "markdown",
   "metadata": {},
   "source": [
    "# Tâche 1 : Création d’un index inversé et moteur de recherche booléen et vectorie"
   ]
  },
  {
   "cell_type": "markdown",
   "metadata": {},
   "source": [
    "## 2.1 Traitements linguistiques"
   ]
  },
  {
   "cell_type": "markdown",
   "metadata": {},
   "source": [
    "### Tokenisation des collections"
   ]
  },
  {
   "cell_type": "markdown",
   "metadata": {},
   "source": [
    "#### CACM"
   ]
  },
  {
   "cell_type": "markdown",
   "metadata": {},
   "source": [
    "importing datasets"
   ]
  },
  {
   "cell_type": "code",
   "execution_count": 2,
   "metadata": {
    "scrolled": true
   },
   "outputs": [
    {
     "name": "stderr",
     "output_type": "stream",
     "text": [
      "[nltk_data] Downloading package punkt to\n",
      "[nltk_data]     /Users/victoraubin/nltk_data...\n",
      "[nltk_data]   Package punkt is already up-to-date!\n"
     ]
    }
   ],
   "source": [
    "import file_reading\n",
    "import tokenization"
   ]
  },
  {
   "cell_type": "markdown",
   "metadata": {},
   "source": [
    "CACM (quick import and tokenization)"
   ]
  },
  {
   "cell_type": "code",
   "execution_count": 3,
   "metadata": {},
   "outputs": [],
   "source": [
    "CACM_documents = file_reading.read_cacm()  # raw dataset\n",
    "CACM_tokens_NLTK = tokenization.tokenize_CACM(CACM_documents)  # tokenization with NLTK and stoplist\n",
    "CACM_tokens = tokenization.tokenize_no_nltk_CACM(CACM_documents)  # Manual tokenization (stoplist)"
   ]
  },
  {
   "cell_type": "markdown",
   "metadata": {},
   "source": [
    "#### CS276"
   ]
  },
  {
   "cell_type": "markdown",
   "metadata": {},
   "source": [
    "Storing tokenized dataset into a pickle file that's reused"
   ]
  },
  {
   "cell_type": "code",
   "execution_count": 4,
   "metadata": {},
   "outputs": [
    {
     "name": "stdout",
     "output_type": "stream",
     "text": [
      "getting CS276 docs pickle\n",
      "getting CS276 tokens pickle\n",
      "done\n"
     ]
    }
   ],
   "source": [
    "import pickle\n",
    "import os\n",
    "\n",
    "if os.path.exists(\"tokenized_data/CS276_docs.pickle\"):\n",
    "    print(\"getting CS276 docs pickle\")\n",
    "    CS276_docs = pickle.load(open(\"tokenized_data/CS276_docs.pickle\", 'rb'))\n",
    "else:\n",
    "    print(\"reading CS297\")\n",
    "    CS276_docs = file_reading.read_cs276()\n",
    "    print(\"storing CS297 docs in a pickle\")\n",
    "    pickle.dump(CS276_docs, open(\"tokenized_data/CS276_docs.pickle\", 'wb'))\n",
    "\n",
    "if os.path.exists(\"tokenized_data/CS276_tokens.pickle\"):\n",
    "    print(\"getting CS276 tokens pickle\")\n",
    "    CS276_tokens = pickle.load(open(\"tokenized_data/CS276_tokens.pickle\", 'rb'))\n",
    "else:\n",
    "    print(\"making CS276 tokens\")\n",
    "    CS276_tokens = tokenization.tokenize_CS276(CS276_docs)\n",
    "    print(\"storing CS276 in a pickle\")\n",
    "    pickle.dump(CS276_tokens, open(\"tokenized_data/CS276_tokens.pickle\", \"wb\"))\n",
    "print(\"done\")"
   ]
  },
  {
   "cell_type": "markdown",
   "metadata": {},
   "source": [
    "### Nombre de tokens"
   ]
  },
  {
   "cell_type": "code",
   "execution_count": 5,
   "metadata": {},
   "outputs": [
    {
     "name": "stdout",
     "output_type": "stream",
     "text": [
      "Nombre de tokens pour CACM (sans NLTK):\n",
      "73126\n",
      "Nombre de tokens pour CACM (avec NLTK):\n",
      "92997\n",
      "Nombre de tokens pour CS276:\n",
      "2704051\n"
     ]
    }
   ],
   "source": [
    "print(\"Nombre de tokens pour CACM (sans NLTK):\")\n",
    "T1 = sum([len(L) for L in CACM_tokens])\n",
    "print(T1)\n",
    "\n",
    "print(\"Nombre de tokens pour CACM (avec NLTK):\")\n",
    "T1 = sum([len(L) for L in CACM_tokens_NLTK])\n",
    "print(T1)\n",
    "\n",
    "print(\"Nombre de tokens pour CS276:\")\n",
    "T1 = sum([len(L) for L in CS276_tokens])\n",
    "print(T1)"
   ]
  },
  {
   "cell_type": "markdown",
   "metadata": {},
   "source": [
    "### Taille du vocabulaire"
   ]
  },
  {
   "cell_type": "code",
   "execution_count": 6,
   "metadata": {
    "scrolled": false
   },
   "outputs": [
    {
     "name": "stdout",
     "output_type": "stream",
     "text": [
      "Vocabulaire pour CACM: \n",
      "9496\n",
      "Vocabulaire pour CACM (avec NLTK): \n",
      "11157\n",
      "Vocabulaire pour CS276_tokens: \n",
      "346650\n"
     ]
    }
   ],
   "source": [
    "print(\"Vocabulaire pour CACM: \")\n",
    "M1 = len(CACM_tokens)\n",
    "print(M1)\n",
    "# print(CACM_tokens.keys())\n",
    "\n",
    "print(\"Vocabulaire pour CACM (avec NLTK): \")\n",
    "M1 = len(CACM_tokens_NLTK)\n",
    "print(M1)\n",
    "# print(CACM_tokens.keys())\n",
    "\n",
    "print(\"Vocabulaire pour CS276_tokens: \")\n",
    "M1 = len(CS276_tokens)\n",
    "print(M1)\n",
    "# print(CS276_tokens.keys())"
   ]
  },
  {
   "cell_type": "markdown",
   "metadata": {},
   "source": [
    "### Loi Heap et estimation pour 1M vocabulaire"
   ]
  },
  {
   "cell_type": "markdown",
   "metadata": {},
   "source": [
    "CACM"
   ]
  },
  {
   "cell_type": "code",
   "execution_count": 7,
   "metadata": {},
   "outputs": [
    {
     "name": "stdout",
     "output_type": "stream",
     "text": [
      "heap low for collection CACM without NLTK\n",
      "K = 0.16412801642665256, b = 0.9790887476936934\n",
      "Pour 1 million de tokens, vocabulaire :\n",
      "122946\n"
     ]
    }
   ],
   "source": [
    "d_half = tokenization.tokenize_no_nltk_CACM(CACM_documents[:len(CACM_documents)//2])\n",
    "tokenization.print_heap_law(CACM_tokens, d_half, \"CACM without NLTK\")"
   ]
  },
  {
   "cell_type": "code",
   "execution_count": 8,
   "metadata": {},
   "outputs": [
    {
     "name": "stdout",
     "output_type": "stream",
     "text": [
      "heap low for collection CACM with NLTK\n",
      "K = 0.19899997076491205, b = 0.9557661482715758\n",
      "Pour 1 million de tokens, vocabulaire :\n",
      "108006\n"
     ]
    }
   ],
   "source": [
    "d_half = tokenization.tokenize_CACM(CACM_documents[:len(CACM_documents)//2])\n",
    "tokenization.print_heap_law(CACM_tokens_NLTK, d_half, \"CACM with NLTK\")"
   ]
  },
  {
   "cell_type": "markdown",
   "metadata": {},
   "source": [
    "CS276"
   ]
  },
  {
   "cell_type": "code",
   "execution_count": 9,
   "metadata": {},
   "outputs": [
    {
     "name": "stdout",
     "output_type": "stream",
     "text": [
      "heap low for collection CS276\n",
      "K = 0.11194888485284703, b = 1.0091505625243606\n",
      "Pour 1 million de tokens, vocabulaire :\n",
      "127034\n"
     ]
    }
   ],
   "source": [
    "CS276_tokens_heap = CS276_tokens.copy()\n",
    "ids_to_delete = list(range(len(CS276_docs)//2))\n",
    "\n",
    "for document_ids in CS276_tokens_heap.values():\n",
    "    filter(lambda d_id: d_id not in ids_to_delete, document_ids)\n",
    "\n",
    "tokenization.print_heap_law(CS276_tokens, d_half, \"CS276\")"
   ]
  },
  {
   "cell_type": "markdown",
   "metadata": {},
   "source": [
    "### Graphes frequence / rang et log(frequence) / log(rang)"
   ]
  },
  {
   "cell_type": "code",
   "execution_count": 10,
   "metadata": {},
   "outputs": [],
   "source": [
    "freq_CACM = tokenization.word_frequency(CACM_tokens)\n",
    "freq_CACM_NLTK = tokenization.word_frequency(CACM_tokens_NLTK)\n",
    "freq_CS276 = tokenization.word_frequency(CS276_tokens)"
   ]
  },
  {
   "cell_type": "markdown",
   "metadata": {},
   "source": [
    "#### CACM without NLTK"
   ]
  },
  {
   "cell_type": "code",
   "execution_count": 11,
   "metadata": {},
   "outputs": [
    {
     "data": {
      "image/png": "[encoded data removed]",
      "text/plain": [
       "<Figure size 432x288 with 1 Axes>"
      ]
     },
     "metadata": {
      "needs_background": "light"
     },
     "output_type": "display_data"
    }
   ],
   "source": [
    "import matplotlib.pyplot as plt\n",
    "list_word = [tokenization.Token_sorter(word, freq_CACM[word]) for word in freq_CACM.keys()]\n",
    "list_word.sort()\n",
    "X = range(1, len(list_word) + 1)\n",
    "Y = [word.f for word in list_word]\n",
    "plt.title('pour CACM sans NLTK')\n",
    "plt.ylabel('frequence')\n",
    "plt.xlabel('rang')\n",
    "plt.plot(X, Y,)\n",
    "plt.show()"
   ]
  },
  {
   "cell_type": "code",
   "execution_count": 12,
   "metadata": {
    "scrolled": true
   },
   "outputs": [
    {
     "data": {
      "image/png": "[encoded data removed]",
      "text/plain": [
       "<Figure size 432x288 with 1 Axes>"
      ]
     },
     "metadata": {
      "needs_background": "light"
     },
     "output_type": "display_data"
    }
   ],
   "source": [
    "from numpy import log, array\n",
    "X2= log(array(X))\n",
    "Y2 = log(array(Y))\n",
    "plt.title('pour CACM sans NLTK')\n",
    "plt.ylabel('log(frequence)')\n",
    "plt.xlabel('log(rang)')\n",
    "plt.plot(X2, Y2)\n",
    "plt.show()"
   ]
  },
  {
   "cell_type": "markdown",
   "metadata": {},
   "source": [
    "#### CACM with NLTK"
   ]
  },
  {
   "cell_type": "code",
   "execution_count": 13,
   "metadata": {},
   "outputs": [
    {
     "data": {
      "image/png": "[encoded data removed]",
      "text/plain": [
       "<Figure size 432x288 with 1 Axes>"
      ]
     },
     "metadata": {
      "needs_background": "light"
     },
     "output_type": "display_data"
    }
   ],
   "source": [
    "list_word = [tokenization.Token_sorter(word, freq_CACM_NLTK[word]) for word in freq_CACM_NLTK.keys()]\n",
    "list_word.sort()\n",
    "X = range(1, len(list_word) + 1)\n",
    "Y = [word.f for word in list_word]\n",
    "plt.title('pour CACM avec NLTK')\n",
    "plt.ylabel('frequence')\n",
    "plt.xlabel('rang')\n",
    "plt.plot(X, Y)\n",
    "plt.show()"
   ]
  },
  {
   "cell_type": "code",
   "execution_count": 14,
   "metadata": {},
   "outputs": [
    {
     "data": {
      "image/png": "[encoded data removed]",
      "text/plain": [
       "<Figure size 432x288 with 1 Axes>"
      ]
     },
     "metadata": {
      "needs_background": "light"
     },
     "output_type": "display_data"
    }
   ],
   "source": [
    "from numpy import log, array\n",
    "X2= log(array(X))\n",
    "Y2 = log(array(Y))\n",
    "plt.title('pour CACM avec NLTK')\n",
    "plt.ylabel('log(frequence)')\n",
    "plt.xlabel('log(rang)')\n",
    "plt.plot(X2, Y2)\n",
    "plt.show()"
   ]
  },
  {
   "cell_type": "markdown",
   "metadata": {},
   "source": [
    "#### CS276"
   ]
  },
  {
   "cell_type": "code",
   "execution_count": 15,
   "metadata": {},
   "outputs": [
    {
     "data": {
      "image/png": "[encoded data removed]",
      "text/plain": [
       "<Figure size 432x288 with 1 Axes>"
      ]
     },
     "metadata": {
      "needs_background": "light"
     },
     "output_type": "display_data"
    }
   ],
   "source": [
    "list_word = [tokenization.Token_sorter(word, freq_CS276[word]) for word in freq_CS276.keys()]\n",
    "list_word.sort()\n",
    "X = range(1, len(list_word) + 1)\n",
    "Y = [word.f for word in list_word]\n",
    "plt.plot(X, Y)\n",
    "plt.title('pour CS276')\n",
    "plt.ylabel('frequence')\n",
    "plt.xlabel('rang')\n",
    "plt.show()"
   ]
  },
  {
   "cell_type": "code",
   "execution_count": 16,
   "metadata": {},
   "outputs": [
    {
     "data": {
      "image/png": "[encoded data removed]",
      "text/plain": [
       "<Figure size 432x288 with 1 Axes>"
      ]
     },
     "metadata": {
      "needs_background": "light"
     },
     "output_type": "display_data"
    }
   ],
   "source": [
    "from numpy import log, array\n",
    "X2= log(array(X))\n",
    "Y2 = log(array(Y))\n",
    "plt.title('pour CS276')\n",
    "plt.ylabel('log(frequence)')\n",
    "plt.xlabel('log(rang)')\n",
    "plt.plot(X2, Y2)\n",
    "plt.show()"
   ]
  },
  {
   "cell_type": "markdown",
   "metadata": {},
   "source": [
    "### Index inversé"
   ]
  },
  {
   "cell_type": "markdown",
   "metadata": {},
   "source": [
    "On crée des indexes inversés pour les corpus CACM et CS276 dans des fichiers `invesed_index/cacm/cacm.output`\n",
    "\n",
    "Des fichiers intermédiaires sont générés pour alleger la mémoire `invesed_index/cacm/cacm.output_x`\n",
    "\n",
    "Chaque ligne contient l'id du token en premiere position, puis la liste des id des documents qui contiennent ce token"
   ]
  },
  {
   "cell_type": "code",
   "execution_count": 17,
   "metadata": {},
   "outputs": [],
   "source": [
    "import inversed_index\n",
    "from time import time"
   ]
  },
  {
   "cell_type": "markdown",
   "metadata": {},
   "source": [
    "#### CACM without NKTK (better performances)"
   ]
  },
  {
   "cell_type": "code",
   "execution_count": 18,
   "metadata": {},
   "outputs": [
    {
     "name": "stdout",
     "output_type": "stream",
     "text": [
      "l'indexation de CACM a pris 3.4661529064178467 secondes\n"
     ]
    }
   ],
   "source": [
    "cacm_dict_term = {}\n",
    "i = 0\n",
    "for token in CACM_tokens:\n",
    "    if token not in cacm_dict_term:\n",
    "        cacm_dict_term[token] = i\n",
    "        i += 1\n",
    "\n",
    "start = time()\n",
    "inversed_index.index_inverse_global(CACM_documents, 1000,\n",
    "                                    \"inversed_index/cacm/cacm.output\",\n",
    "                                    cacm_dict_term,\n",
    "                                    type=\"CACM\")\n",
    "print(\"l'indexation de CACM a pris\", time() - start, \"secondes\")"
   ]
  },
  {
   "cell_type": "markdown",
   "metadata": {},
   "source": [
    "#### CS276 (supprimez les fichiers inversed_index/cs276/cs276.output pour les recalculer)"
   ]
  },
  {
   "cell_type": "code",
   "execution_count": 19,
   "metadata": {},
   "outputs": [],
   "source": [
    "cs276_dict_term = {}\n",
    "i = 0\n",
    "for token in CS276_tokens:\n",
    "    if token not in cs276_dict_term:\n",
    "        cs276_dict_term[token] = i\n",
    "        i += 1\n",
    "\n",
    "if not os.path.exists(\"inversed_index/cs276/cs276.output\"):\n",
    "    start = time()\n",
    "    inversed_index.index_inverse_global(CS276_docs, 1000,\n",
    "                                        \"inversed_index/cs276/cs276.output\",\n",
    "                                        cs276_dict_term,\n",
    "                                        type=\"CS276\")\n",
    "    print(\"l'indexation de CS276 a pris\", time() - start, \"secondes\")"
   ]
  },
  {
   "cell_type": "markdown",
   "metadata": {},
   "source": [
    "# Index inversé fréquentiel"
   ]
  },
  {
   "cell_type": "markdown",
   "metadata": {},
   "source": [
    "On crée des indexes inversés fréquentiels pour les corpus CACM et CS276 dans des fichiers frequential_index/cacm/cacm.output\n",
    "\n",
    "Des fichiers intermédiaires sont générés pour alleger la mémoire frequential_index/cacm/cacm.output_x\n",
    "\n",
    "Chaque ligne contient l'id du token en premiere position, puis la liste des couples document_id/frequence"
   ]
  },
  {
   "cell_type": "code",
   "execution_count": 20,
   "metadata": {},
   "outputs": [],
   "source": [
    "import frequency_index"
   ]
  },
  {
   "cell_type": "markdown",
   "metadata": {},
   "source": [
    "#### CACM without NKTK (better performances)"
   ]
  },
  {
   "cell_type": "code",
   "execution_count": 21,
   "metadata": {},
   "outputs": [
    {
     "name": "stdout",
     "output_type": "stream",
     "text": [
      "l'indexation fréquentielle de CACM a pris 3.8203370571136475 secondes\n"
     ]
    }
   ],
   "source": [
    "start = time()\n",
    "frequency_index.index_inverse_global_with_frequency(CACM_documents, 1000,\n",
    "                                                      \"frequential_index/cacm/cacm.output\",\n",
    "                                                      cacm_dict_term,\n",
    "                                                      type=\"CACM\")\n",
    "print(\"l'indexation fréquentielle de CACM a pris\", time() - start, \"secondes\")"
   ]
  },
  {
   "cell_type": "markdown",
   "metadata": {},
   "source": [
    "#### CS276"
   ]
  },
  {
   "cell_type": "code",
   "execution_count": 22,
   "metadata": {},
   "outputs": [],
   "source": [
    "if not os.path.exists(\"frequential_index/cs276/cs276.output\"):\n",
    "    start = time()\n",
    "    frequency_index.index_inverse_global_with_frequency(CS276_docs, 1000,\n",
    "                                                      \"frequential_index/cs276/cs276.output\",\n",
    "                                                      cs276_dict_term,\n",
    "                                                      type=\"CS276\")\n",
    "    print(\"l'indexation fréquentielle de CS276 a pris\", time() - start, \"secondes\")"
   ]
  },
  {
   "cell_type": "markdown",
   "metadata": {},
   "source": [
    "## Modele booleen"
   ]
  },
  {
   "cell_type": "markdown",
   "metadata": {},
   "source": [
    "La recherche booléenne prend une entrée booléenne du type \"token&token|(!token&token)\". L'expression booleenne est transformée en expression polonaise pour prendre en compte efficacement les parenthèses. Le programme renvoie un set des ids des documents qui contiennent l'expression et le temps de utilisé pour calculer. "
   ]
  },
  {
   "cell_type": "code",
   "execution_count": 23,
   "metadata": {},
   "outputs": [],
   "source": [
    "import boolean_model"
   ]
  },
  {
   "cell_type": "markdown",
   "metadata": {},
   "source": [
    "#### CACM"
   ]
  },
  {
   "cell_type": "code",
   "execution_count": 24,
   "metadata": {},
   "outputs": [
    {
     "name": "stdout",
     "output_type": "stream",
     "text": [
      "\n",
      "query: Algebraic&Language|(Preliminary&printer)\n",
      "request time: 0.009469985961914062\n",
      "result: {'54', '1543', '2547', '1', '93', '1824', '1471', '1453', '1223', '1216', '99', '1589', '3077', '2958', '1253', '2645'}\n",
      "\n",
      "query: Algebraic&!Language\n",
      "request time: 0.003930330276489258\n",
      "result: set()\n",
      "\n",
      "query: The&Secant&Method&for&Simultaneous&Nonlinear&Equations\n",
      "request time: 0.014089107513427734\n",
      "result: {'39'}\n",
      "\n",
      "query: Binary&Representation|(Algebraic&Language)\n",
      "request time: 0.012661933898925781\n",
      "result: {'3041', '2446', '2525', '2702', '2787', '2987', '2801', '40', '3115'}\n"
     ]
    }
   ],
   "source": [
    "boolean_queries = [\n",
    "    \"Algebraic&Language|(Preliminary&printer)\",\n",
    "    \"Algebraic&!Language\",\n",
    "    \"The&Secant&Method&for&Simultaneous&Nonlinear&Equations\",\n",
    "    \"Binary&Representation|(Algebraic&Language)\"\n",
    "]\n",
    "for query in boolean_queries:\n",
    "    print()\n",
    "    debut = time()\n",
    "    result = boolean_model.boolean_model(query, CACM_documents, cacm_dict_term, type=\"CACM\")\n",
    "    print(\"query:\", query)\n",
    "    print(\"request time:\", time() - debut)\n",
    "    print(\"result:\", result)"
   ]
  },
  {
   "cell_type": "markdown",
   "metadata": {},
   "source": [
    "#### CS276"
   ]
  },
  {
   "cell_type": "code",
   "execution_count": 25,
   "metadata": {
    "scrolled": true
   },
   "outputs": [
    {
     "name": "stdout",
     "output_type": "stream",
     "text": [
      "\n",
      "query: contact&us&about&us&food&allergies&stanford&medicine\n",
      "request time: 1.8178491592407227\n",
      "result: {'30431', '79807', '39841', '85984', '29306', '45696'}\n",
      "\n",
      "query: contact&us&about&us&!food\n",
      "request time: 0.33130788803100586\n",
      "result: set()\n",
      "\n",
      "query: (climate&change)|(agricultural&adaptation)&!politic&!university\n",
      "request time: 3.3828699588775635\n",
      "result: {'80327', '65099', '34718', '76661', '78815', '71335', '68076', '76120', '18244', '46637', '5489', '65734', '60019', '79652', '41340', '82304', '77369', '8721', '94188', '85405', '81862', '12234', '63191', '68568', '7061', '45324', '83411', '76891', '67607', '33908', '21010', '36627', '47567', '70841', '66100', '71430', '66713', '47028', '46674', '63585', '73546', '29749', '72990', '69367', '59232', '46121', '68121', '86927', '39124', '81649', '17640', '62817', '83233', '92516', '32228', '60455', '86829', '81743', '73416', '46558', '68460', '65077', '14661', '81842', '43385', '81193', '84996', '20320', '86706', '86199', '73955', '61487', '60551', '68085', '78504', '87382', '70239', '45026', '81988', '86571', '47644', '39685', '62706', '64558', '62549', '80370', '98012', '44354', '33055', '86851', '70526', '79326', '60636', '75198', '40645', '74730', '45294', '44102', '15312', '80159', '34921', '47940', '48990', '59635', '63647', '79848', '85531', '84276', '42478', '77441', '66837', '63365', '85741', '39864', '22376', '13504', '33923', '68221', '74039', '23567', '96865', '40516', '12333', '79671', '182', '64677', '101', '66709', '88837', '88062', '48306', '40839', '87099', '83568', '81791', '29854', '60846', '86635', '87619', '78044', '62138', '86358', '82024', '43993', '44343', '59477', '59986', '66435', '85249', '16169', '63811', '82602', '88314', '34483', '84221', '77225', '84956', '5400', '18552', '80745', '10600', '87543', '67754', '67683', '80255', '86100', '45535', '43214', '95608', '94088', '82377', '68852', '94916', '16037', '45966', '8022', '39386', '86069', '77857', '48700', '17828', '43277', '66389', '70462', '41421', '78896', '85269', '67351', '20062', '8642', '52719', '2343', '63400', '86459', '10599', '48094', '48539', '1787', '48037', '82874', '80302', '79450', '61181', '1556', '95677', '65121', '66722', '85963', '32891', '77502', '67951', '59786', '5601', '83892', '60440', '9611', '78163', '81395', '79757', '13717', '65628', '83105', '7255', '75253', '82234', '13535', '45416', '68538', '41654', '44393', '44594', '5702', '86000', '39549', '42779', '61666', '68197', '33349', '62089', '5491', '46195', '39312', '72030', '27583', '63033', '87482', '12208', '46775', '540', '66984', '13202', '42075', '39987', '66793', '30771', '78523', '10765', '41107', '59924', '78973', '86508', '65282', '18954', '18668', '74846', '60247', '40598', '24594', '36274', '62323', '83369', '18271', '65546', '19699', '90117', '85372', '84442', '59688', '76917', '82628', '46284', '37733', '88399', '82948', '31768', '84949', '59620', '61144', '74111', '72431', '67257', '96592', '64556', '82813', '39650', '88821', '72975', '12329', '66453', '7568', '75776', '80538', '1743', '77739', '87362', '62014', '14300', '42484', '54298', '79676', '83564', '40863', '85220', '8608', '47914', '73221', '68338', '71400', '67911', '84259', '11123', '42159', '85678', '70774', '98314', '65809', '41483', '44089', '38104', '77442', '71054', '84306', '96004', '85264', '86013', '62870', '63285', '65707', '8904', '36747', '59245', '59108', '4754', '84848', '13037', '66694', '68223', '94331', '46961', '82002', '83670', '43850', '61579', '68971', '62245', '41302', '47643', '65212', '67859', '22113', '85003', '60100', '79820', '60570', '69932', '71327', '38161', '79499', '96905', '87671', '87376', '6325', '62709', '81025', '61884', '75837', '82127', '68493', '77591', '95850', '26828', '80246', '9440', '69808', '78529', '75668', '40172', '37695', '62001', '46396', '91704', '68526', '19578', '94917', '80231', '83863', '17297', '79501', '46993', '63896', '68570', '85547', '79357', '16028', '59776', '84782', '42400', '62591', '79260', '67456', '5796', '16185', '68102', '86856', '64616', '93263', '63948', '83654', '60573', '69243', '69490', '80441', '81767', '65042', '39891', '68447', '38062', '40857', '761', '16276', '46581', '80546', '46394', '82305', '39734', '15663', '47031', '46788', '16400', '59226', '41085', '60875', '10654', '45432', '67073', '2452', '87024', '39974', '81502', '88394', '91372', '83624', '29219', '10370', '79574', '76867', '58409', '83182', '85039', '36175', '5716', '68490', '70671', '75043', '80890', '84833', '61413', '59864', '62200', '63108', '61519', '68247', '11133', '77332', '60055', '31115', '60907', '14684', '88494', '35671', '42959', '60419', '11821', '84051', '87245', '65402', '68909', '12369', '60982', '60932', '41382', '66488', '62796', '68912', '83947', '83822', '87600', '90506', '937', '61557', '40166', '38619', '47041', '8618', '17881', '69852', '93485', '66768', '59093', '87546', '67851', '18018', '69672', '66222', '81229', '44597', '70095', '46278', '83313', '80272', '11699', '83480', '12631', '82250', '61131', '82994', '65942', '72127', '45285', '60511', '22119', '36319', '85427', '45982', '5973', '72546', '71126', '14583', '39548', '61182', '88780', '21578', '82005', '9970', '47703', '87077', '18466', '12347', '41958', '76487', '67096', '70631', '66827', '40840', '40779', '62067', '67670', '46825', '80102', '41628', '66765', '61433', '34882', '428', '87743', '37741', '84346', '30331', '41905', '11180', '60016', '61910', '19365', '60682', '70516', '71895', '85701', '30177', '85813', '88119', '66366', '67549', '71449', '63662', '24108', '84113', '5439', '54613', '63565', '85541', '70047', '3354', '9858', '79314', '9861', '64133', '82037', '61039', '26099', '82649', '24721', '75381', '11187', '9770', '80761', '32797', '96416', '61550', '13479', '80651', '79299', '87650', '65623', '42499', '12573', '62811', '83797', '89309', '94593', '66356', '10721', '78470', '40773', '40309', '88454', '81773', '13657', '48565', '83960', '45808', '83806', '74465', '88403', '59473', '9260', '83337', '88777', '63540', '82328', '30698', '85588', '36857', '44741', '15575', '65759', '71825', '13810', '58597', '65007', '63667', '87962', '85032', '36834', '40374', '61634', '93080', '44259', '3830', '18411', '85830', '32338', '39129', '11463', '81404', '66314', '65901', '67183', '85479', '34102', '45520', '62273', '1603', '81979', '1930', '78299', '59405', '34230', '8075', '67186', '79133', '65958', '76378', '31285', '48912', '17923', '37720', '80835', '82859', '86328', '62020', '37023', '79422', '85189', '16910', '64923', '69940', '47684', '90285', '82902', '37209', '41869', '59901', '86092', '4964', '60858', '65663', '90374', '65419', '46334', '36092', '68424', '77860', '88917', '60409', '81787', '85361', '67650', '66261', '3369', '76703', '13088', '15053', '29', '93556', '95855', '64566', '62632', '66468', '4757', '10271', '28287', '65371', '83481', '8900', '3632', '62628', '42737', '79063', '30976', '60418', '79767', '91991', '39438', '14213', '89774', '31449', '64380', '69668', '3157', '30222', '74143', '61491', '60438', '70457', '80953', '79361', '85453', '34538', '41811', '83267', '9007', '39066', '83787', '63678', '64088', '72943', '79217', '39785', '64659', '59788', '11211', '78406', '36725', '66848', '48810', '89554', '62059', '62677', '68885', '75872', '83376', '71272', '87529', '12593', '13617', '88828', '86620', '65700', '65242', '14983', '16903', '39908', '14987', '65525', '42407', '31934', '66946', '38437', '84103', '39934', '80420', '67623', '82951', '65632', '45725', '26597', '65175', '95150', '79026', '25707', '73222', '54147', '63176', '2679', '79685', '91247', '95109', '85110', '63494', '60863', '61691', '79235', '55139', '68409', '88951', '66698', '8784', '87750', '82192', '62959', '12657', '65219', '65819', '83817', '62637', '49680', '62571', '86888', '64339', '67052', '73376', '62699', '38487', '64750', '12607', '46744', '82279', '82787', '69646', '13163', '85908', '81611', '79571', '79782', '67261', '60486', '6759', '66603', '86761', '65880', '2224', '34156', '78348', '43335', '66875', '88498', '77067', '82852', '63673', '87595', '44715', '95659', '81546', '88037', '7416', '84403', '60673', '62136', '66766', '39032', '16407', '39221', '68994', '2021', '39314', '86817', '43232', '67937', '17040', '63873', '75695', '64978', '60126', '62855', '12742', '64017', '62805', '98803', '59158', '38645', '59254', '80461', '47953', '34152', '47794', '11452', '59242', '7068', '83645', '11385', '5639', '33749', '64422', '70259', '64495', '45146', '21235', '77967', '68567', '62922', '94020', '42811', '61951', '83875', '11773', '59774', '73694', '85922', '88294', '83214', '39778', '73602', '25570', '64711', '88110', '85162', '46703', '45484', '94432', '74906', '81968', '76715', '66866', '34135', '88738', '61509', '68880', '81561', '60340', '65794', '88610', '24506', '37061', '82461', '83470', '59534', '66286', '92512', '66770', '45316', '516', '86735', '68045', '36431', '3455', '29745', '85188', '68268', '87244', '32476', '60211', '81560', '82609', '59754', '38831', '86919', '9860', '60806', '67968', '67632', '38021', '28863', '60317', '45170', '82793', '62754', '27827', '59186', '6445', '32821', '73712', '31483', '71563', '67262', '41283', '61271', '41908', '46652', '31158', '1387', '68472', '14336', '55249', '78063', '78097', '60966', '41330', '61057', '72333', '24855', '79679', '79815', '88772', '42935', '71609', '59440', '66636', '64608', '79224', '62070', '64362', '46297', '74348', '74038', '5764', '59653', '24383', '65640', '76868', '46069', '41178', '20101', '20404', '71047', '68366', '43183', '67921', '10818', '66336', '10473', '68819', '61469', '67305', '64881', '71935', '23984', '24522', '66922', '71029', '60249', '16047', '18461', '91014', '18642', '64330', '85819', '47939', '60692', '67444', '68883', '86365', '64115', '73935', '12982', '81083', '59371', '66865', '61106', '9241', '81066', '80813', '59183', '81396', '85075', '55914', '65163', '77667', '67408', '38888', '61104', '3964', '86976', '65878', '14972', '69292', '48804', '47237', '68616', '63749', '79731', '82792', '12285', '73700', '64047', '38087', '2052', '4907', '46947', '84356', '74280', '95017', '74564', '32792', '88270', '66980', '67028', '41123', '62609'}\n"
     ]
    }
   ],
   "source": [
    "from time import time\n",
    "\n",
    "boolean_queries = [\n",
    "    \"contact&us&about&us&food&allergies&stanford&medicine\",\n",
    "    \"contact&us&about&us&!food\",\n",
    "    \"(climate&change)|(agricultural&adaptation)&!politic&!university\"\n",
    "]\n",
    "for query in boolean_queries:\n",
    "    print()\n",
    "    debut = time()\n",
    "    result = boolean_model.boolean_model(query, CS276_docs, cs276_dict_term, type=\"CS276\")\n",
    "    print(\"query:\", query)\n",
    "    print(\"request time:\", time() - debut)\n",
    "    print(\"result:\", result)"
   ]
  },
  {
   "cell_type": "markdown",
   "metadata": {},
   "source": [
    "## Modele vectoriel"
   ]
  },
  {
   "cell_type": "code",
   "execution_count": 26,
   "metadata": {},
   "outputs": [],
   "source": [
    "import vectorial_model\n",
    "from importlib import reload\n",
    "vectorial_model = reload(vectorial_model)"
   ]
  },
  {
   "cell_type": "markdown",
   "metadata": {},
   "source": [
    "##### CACM"
   ]
  },
  {
   "cell_type": "code",
   "execution_count": 27,
   "metadata": {},
   "outputs": [
    {
     "name": "stdout",
     "output_type": "stream",
     "text": [
      "request time 0.15630888938903809\n",
      "[2047, 2033, 2030, 2024, 2020]\n"
     ]
    }
   ],
   "source": [
    "# ponderation tf-idf\n",
    "start = time()\n",
    "found_documents = vectorial_model.modele_vectoriel(\"paper\",\n",
    "                                                   CACM_documents,\n",
    "                                                   cacm_dict_term,\n",
    "                                                   ponderation=\"tfidf\",\n",
    "                                                   type=\"CACM\")\n",
    "print(\"request time\", time() - start)\n",
    "print(found_documents[:5])"
   ]
  },
  {
   "cell_type": "code",
   "execution_count": 28,
   "metadata": {},
   "outputs": [
    {
     "name": "stdout",
     "output_type": "stream",
     "text": [
      "request time 14.504542827606201\n",
      "[1453, 3147, 3034, 497, 2367]\n"
     ]
    }
   ],
   "source": [
    "# ponderation tf-idf normalisé\n",
    "start = time()\n",
    "found_documents = vectorial_model.modele_vectoriel(\"This paper describes an alternate method for summing a set of floating-point numbers.  Comparison of the error bound for this method with that of the standard summation method shows that it is considerably less sensitive to propagation of round-off error.\",\n",
    "                                                   CACM_documents,\n",
    "                                                   cacm_dict_term,\n",
    "                                                   ponderation=\"tfidf_norm\",\n",
    "                                                   type=\"CACM\")\n",
    "print(\"request time\", time() - start)\n",
    "print(found_documents[:5])"
   ]
  },
  {
   "cell_type": "code",
   "execution_count": 29,
   "metadata": {},
   "outputs": [
    {
     "name": "stdout",
     "output_type": "stream",
     "text": [
      "request time 9.65975308418274\n",
      "[2024, 2020, 1978, 1945, 1937]\n"
     ]
    }
   ],
   "source": [
    "# ponderation frequence normalisé\n",
    "start = time()\n",
    "found_documents = vectorial_model.modele_vectoriel(\"This paper describes an alternate method for summing a set of floating-point numbers.  Comparison of the error bound for this method with that of the standard summation method shows that it is considerably less sensitive to propagation of round-off error.\",\n",
    "                                                   CACM_documents,\n",
    "                                                   cacm_dict_term,\n",
    "                                                   ponderation=\"norm_freq\",\n",
    "                                                   type=\"CACM\")\n",
    "print(\"request time\", time() - start)\n",
    "print(found_documents[:5])"
   ]
  },
  {
   "cell_type": "markdown",
   "metadata": {},
   "source": [
    "#### CS276"
   ]
  },
  {
   "cell_type": "code",
   "execution_count": 30,
   "metadata": {},
   "outputs": [
    {
     "name": "stdout",
     "output_type": "stream",
     "text": [
      "request time 2.3264691829681396\n",
      "[4769, 73673, 3922, 36664, 52983]\n"
     ]
    }
   ],
   "source": [
    "start = time()\n",
    "found_documents = vectorial_model.modele_vectoriel(\"hello hello\",\n",
    "                                                   CS276_docs,\n",
    "                                                   cs276_dict_term,\n",
    "                                                   ponderation=\"tfidf\",\n",
    "                                                   type=\"CS276\")\n",
    "print(\"request time\", time() - start)\n",
    "print(found_documents[:5])"
   ]
  },
  {
   "cell_type": "markdown",
   "metadata": {},
   "source": [
    "## Evaluation"
   ]
  },
  {
   "cell_type": "markdown",
   "metadata": {},
   "source": [
    "### Performances"
   ]
  },
  {
   "cell_type": "markdown",
   "metadata": {},
   "source": [
    "Temps de calcul donné dans les cellules correspondantes"
   ]
  },
  {
   "cell_type": "markdown",
   "metadata": {},
   "source": [
    "index inversé CACM: 463 KB"
   ]
  },
  {
   "cell_type": "markdown",
   "metadata": {},
   "source": [
    "index inversé CS276: 81,3 MB"
   ]
  },
  {
   "cell_type": "markdown",
   "metadata": {},
   "source": [
    "fréquence index CACM: 659 KB"
   ]
  },
  {
   "cell_type": "markdown",
   "metadata": {},
   "source": [
    "fréquence index CS276: 93,5 MB"
   ]
  },
  {
   "cell_type": "code",
   "execution_count": 50,
   "metadata": {},
   "outputs": [
    {
     "name": "stdout",
     "output_type": "stream",
     "text": [
      "request time 0.04999995231628418\n",
      "[2378, 2320, 1749, 1748, 1135, 3141, 3128, 3056, 1518, 3043, 3039, 2522, 2519, 2504, 1458, 942, 1960, 2979, 412, 1928, 2438, 1410, 2931, 2922, 2920, 1385, 2912, 2911, 2396, 2895, 2383, 2379, 2376, 2371, 1854, 825, 1846, 2865, 1828, 2851, 2848, 1308, 2327, 278, 1272, 243, 2795, 224, 2777, 1753, 1747, 2255, 2740, 2228, 1199, 1198, 1706, 1698, 2717, 1145, 3184, 2672, 618, 2150, 1098, 2629, 3140, 3127, 3120, 2080, 2581, 2580, 2060, 3081, 3078, 1541, 3072, 2342, 2408, 2210, 94, 1999, 2490, 2470, 2981, 2454, 2943, 1888, 1369, 319, 313, 286, 1805, 748, 2194, 636, 1643, 1622, 2105, 1593, 2266, 1722, 2047, 2544, 1435, 2353, 1811, 1806, 1260, 1212, 2742, 2229, 1197, 1159, 1586, 1587, 3073, 2307, 3025, 1873, 3182, 894, 380, 1692, 111, 1111, 1601, 20]\n"
     ]
    }
   ],
   "source": [
    "start = time()\n",
    "found_documents = vectorial_model.modele_vectoriel(\"Accelerating Convergence of Iterative Processes\",\n",
    "                                                   CACM_documents,\n",
    "                                                   cacm_dict_term,\n",
    "                                                   ponderation=\"tfidf\",\n",
    "                                                   type=\"CACM\")\n",
    "print(\"request time\", time() - start)\n",
    "print(found_documents)"
   ]
  },
  {
   "cell_type": "code",
   "execution_count": 51,
   "metadata": {},
   "outputs": [
    {
     "data": {
      "text/plain": [
       "['Digital Computer Determination of Alpha Source Activity',\n",
       " 'A technique is described for determining the activity and homogeneity of an alpha source.   It is believed that the technique, using a digital computer, has many uses and applications in the field  of nuclear physics. The technique involves computer manipulation of the digital image of the nuclear  source.  Experimental details are given.',\n",
       " '']"
      ]
     },
     "execution_count": 51,
     "metadata": {},
     "output_type": "execute_result"
    }
   ],
   "source": [
    "CACM_documents[1143]"
   ]
  },
  {
   "cell_type": "code",
   "execution_count": 52,
   "metadata": {},
   "outputs": [],
   "source": [
    "import evaluation"
   ]
  },
  {
   "cell_type": "code",
   "execution_count": 60,
   "metadata": {},
   "outputs": [
    {
     "data": {
      "image/png": "[encoded data removed]",
      "text/plain": [
       "<Figure size 432x288 with 1 Axes>"
      ]
     },
     "metadata": {
      "needs_background": "light"
     },
     "output_type": "display_data"
    },
    {
     "data": {
      "image/png": "[encoded data removed]",
      "text/plain": [
       "<Figure size 432x288 with 1 Axes>"
      ]
     },
     "metadata": {
      "needs_background": "light"
     },
     "output_type": "display_data"
    },
    {
     "data": {
      "image/png": "[encoded data removed]",
      "text/plain": [
       "<Figure size 432x288 with 1 Axes>"
      ]
     },
     "metadata": {
      "needs_background": "light"
     },
     "output_type": "display_data"
    },
    {
     "data": {
      "image/png": "[encoded data removed]",
      "text/plain": [
       "<Figure size 432x288 with 1 Axes>"
      ]
     },
     "metadata": {
      "needs_background": "light"
     },
     "output_type": "display_data"
    },
    {
     "data": {
      "image/png": "[encoded data removed]",
      "text/plain": [
       "<Figure size 432x288 with 1 Axes>"
      ]
     },
     "metadata": {
      "needs_background": "light"
     },
     "output_type": "display_data"
    },
    {
     "ename": "IndexError",
     "evalue": "list index out of range",
     "output_type": "error",
     "traceback": [
      "\u001b[0;31m---------------------------------------------------------------------------\u001b[0m",
      "\u001b[0;31mIndexError\u001b[0m                                Traceback (most recent call last)",
      "\u001b[0;32m<ipython-input-60-9b9c5a818214>\u001b[0m in \u001b[0;36m<module>\u001b[0;34m\u001b[0m\n\u001b[1;32m     52\u001b[0m \u001b[0mplt\u001b[0m\u001b[0;34m.\u001b[0m\u001b[0mshow\u001b[0m\u001b[0;34m(\u001b[0m\u001b[0;34m)\u001b[0m\u001b[0;34m\u001b[0m\u001b[0;34m\u001b[0m\u001b[0m\n\u001b[1;32m     53\u001b[0m \u001b[0;34m\u001b[0m\u001b[0m\n\u001b[0;32m---> 54\u001b[0;31m \u001b[0mevaluation\u001b[0m\u001b[0;34m.\u001b[0m\u001b[0mplot_precision_recall_curve\u001b[0m\u001b[0;34m(\u001b[0m\u001b[0mpred\u001b[0m\u001b[0;34m[\u001b[0m\u001b[0;36m5\u001b[0m\u001b[0;34m]\u001b[0m\u001b[0;34m,\u001b[0m \u001b[0mtrue\u001b[0m\u001b[0;34m[\u001b[0m\u001b[0;36m5\u001b[0m\u001b[0;34m]\u001b[0m\u001b[0;34m)\u001b[0m\u001b[0;34m\u001b[0m\u001b[0;34m\u001b[0m\u001b[0m\n\u001b[0m\u001b[1;32m     55\u001b[0m \u001b[0mplt\u001b[0m\u001b[0;34m.\u001b[0m\u001b[0mshow\u001b[0m\u001b[0;34m(\u001b[0m\u001b[0;34m)\u001b[0m\u001b[0;34m\u001b[0m\u001b[0;34m\u001b[0m\u001b[0m\n",
      "\u001b[0;31mIndexError\u001b[0m: list index out of range"
     ]
    }
   ],
   "source": [
    "file_query = open(\"./Data/CACM/query.text\")\n",
    "\n",
    "pred = []\n",
    "true = []\n",
    "queries = []\n",
    "current_section = -1\n",
    "for line in file_query.readlines():\n",
    "    if line[0] == '.':\n",
    "        if line[1] == 'I':\n",
    "            queries.append([int(line.split(\" \")[1]), \"\"])\n",
    "        elif line[1] == 'W':\n",
    "            current_section = 1\n",
    "        else:\n",
    "            current_section = -1\n",
    "    else:\n",
    "        if current_section >= 0:\n",
    "            queries[-1][current_section] += \" \" + line.strip('\\n')\n",
    "\n",
    "file_query.close()\n",
    "\n",
    "for query in queries[:5]:\n",
    "    pred.append(vectorial_model.modele_vectoriel(query[1],\n",
    "                                                   CACM_documents,\n",
    "                                                   cacm_dict_term,\n",
    "                                                   ponderation=\"tfidf\",\n",
    "                                                   type=\"CACM\")[::-1])\n",
    "true = [[] for _ in range(len(queries))]\n",
    "target_file = open(\"./Data/CACM/qrels.text\")\n",
    "\n",
    "for target in target_file.readlines():\n",
    "    index = target.split(\" \")[0]\n",
    "    if index.startswith(\"0\"):\n",
    "        index = index[1:]\n",
    "    index = int(index)\n",
    "    true[index - 1].append(int(target.split(\" \")[1]))\n",
    "target_file.close() \n",
    "\n",
    "\n",
    "evaluation.plot_precision_recall_curve(pred[0], true[0])\n",
    "plt.show()\n",
    "\n",
    "evaluation.plot_precision_recall_curve(pred[1], true[1])\n",
    "plt.show()\n",
    "\n",
    "evaluation.plot_precision_recall_curve(pred[2], true[2])\n",
    "plt.show()\n",
    "\n",
    "evaluation.plot_precision_recall_curve(pred[3], true[3])\n",
    "plt.show()\n",
    "\n",
    "evaluation.plot_precision_recall_curve(pred[4], true[4])\n",
    "plt.show()"
   ]
  },
  {
   "cell_type": "code",
   "execution_count": null,
   "metadata": {},
   "outputs": [],
   "source": []
  }
 ],
 "metadata": {
  "kernelspec": {
   "display_name": "Python 3",
   "language": "python",
   "name": "python3"
  },
  "language_info": {
   "codemirror_mode": {
    "name": "ipython",
    "version": 3
   },
   "file_extension": ".py",
   "mimetype": "text/x-python",
   "name": "python",
   "nbconvert_exporter": "python",
   "pygments_lexer": "ipython3",
   "version": "3.7.1"
  }
 },
 "nbformat": 4,
 "nbformat_minor": 2
}
